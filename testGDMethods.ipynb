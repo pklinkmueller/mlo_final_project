{
 "cells": [
  {
   "cell_type": "markdown",
   "metadata": {},
   "source": [
    "---------------------------------DATA PREPROCESSING---------------------------------"
   ]
  },
  {
   "cell_type": "code",
   "execution_count": 1,
   "metadata": {},
   "outputs": [],
   "source": [
    "import numpy as np\n",
    "\n",
    "import datasets.data as data\n",
    "from descent_algorithms import *\n",
    "from models import *\n",
    "from util import *"
   ]
  },
  {
   "cell_type": "code",
   "execution_count": 2,
   "metadata": {},
   "outputs": [],
   "source": [
    "features, labels = data.load_wisconsin_breast_cancer()"
   ]
  },
  {
   "cell_type": "code",
   "execution_count": 3,
   "metadata": {},
   "outputs": [],
   "source": [
    "#Learning Rate Objects\n",
    "lr = FixedRate(0.001)"
   ]
  },
  {
   "cell_type": "code",
   "execution_count": 4,
   "metadata": {},
   "outputs": [],
   "source": [
    "#Descent Algorithm Objects\n",
    "gd = GradientDescent(0.01)"
   ]
  },
  {
   "cell_type": "code",
   "execution_count": 5,
   "metadata": {},
   "outputs": [],
   "source": [
    "#Models(descent_algo, learning rate, iterations, batch)\n",
    "logreg = LogisticRegression(gd, lr, 1000, 100)"
   ]
  },
  {
   "cell_type": "code",
   "execution_count": 6,
   "metadata": {},
   "outputs": [
    {
     "name": "stdout",
     "output_type": "stream",
     "text": [
      "Iter:        0 batch loss: 69.315\n",
      "Iter:      100 batch loss: 61.509\n",
      "Iter:      200 batch loss: 61.502\n",
      "Iter:      300 batch loss: 57.533\n",
      "Iter:      400 batch loss: 60.513\n",
      "Iter:      500 batch loss: 54.399\n",
      "Iter:      600 batch loss: 47.894\n",
      "Iter:      700 batch loss: 53.331\n",
      "Iter:      800 batch loss: 47.368\n",
      "Iter:      900 batch loss: 51.362\n"
     ]
    }
   ],
   "source": [
    "loss, weight = logreg.fit(features, labels)"
   ]
  },
  {
   "cell_type": "code",
   "execution_count": 12,
   "metadata": {
    "scrolled": true
   },
   "outputs": [
    {
     "name": "stdout",
     "output_type": "stream",
     "text": [
      "Model Accuracy: 85.67%\n"
     ]
    }
   ],
   "source": [
    "#modelAccuracyCheck\n",
    "acc = check_accuracy(logreg, features, labels)\n",
    "print(\"Model Accuracy: {0:.2f}%\".format(acc * 100))"
   ]
  },
  {
   "cell_type": "markdown",
   "metadata": {},
   "source": [
    "import matplotlib.pyplot as plt\n",
    "plt.figure(200)\n",
    "plt.title('Training Accuracy')\n",
    "plt.xlabel('Iteration x10^2')\n",
    "plt.ylabel('Accuracy')\n",
    "plt.plot(accuracies, 'b')\n",
    "plt.show()\n",
    "plt.figure(300)\n",
    "plt.title('Validation Accuracy')\n",
    "plt.xlabel('Iteration x10^2')\n",
    "plt.ylabel('Accuracy')\n",
    "plt.plot(val_accuracies, 'b')\n",
    "plt.show()"
   ]
  },
  {
   "cell_type": "code",
   "execution_count": null,
   "metadata": {},
   "outputs": [],
   "source": []
  }
 ],
 "metadata": {
  "kernelspec": {
   "display_name": "Python 3",
   "language": "python",
   "name": "python3"
  },
  "language_info": {
   "codemirror_mode": {
    "name": "ipython",
    "version": 3
   },
   "file_extension": ".py",
   "mimetype": "text/x-python",
   "name": "python",
   "nbconvert_exporter": "python",
   "pygments_lexer": "ipython3",
   "version": "3.6.6"
  }
 },
 "nbformat": 4,
 "nbformat_minor": 2
}
