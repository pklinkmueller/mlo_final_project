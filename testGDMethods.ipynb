{
 "cells": [
  {
   "cell_type": "markdown",
   "metadata": {},
   "source": [
    "---------------------------------DATA PREPROCESSING---------------------------------"
   ]
  },
  {
   "cell_type": "code",
   "execution_count": 8,
   "metadata": {},
   "outputs": [],
   "source": [
    "import numpy as np\n",
    "from sklearn.model_selection import train_test_split\n",
    "\n",
    "import datasets.data as data\n",
    "from descent_algorithms import *\n",
    "from models import *\n",
    "from util import *"
   ]
  },
  {
   "cell_type": "code",
   "execution_count": 9,
   "metadata": {},
   "outputs": [],
   "source": [
    "features, labels = data.load_wisconsin_breast_cancer()\n",
    "wbc_X_train, wbc_X_test, wbc_y_train, wbc_y_test = train_test_split(\n",
    "    features, labels, test_size=0.2)\n",
    "# print(features.shape)\n",
    "# print(labels.shape)\n",
    "\n",
    "# print (features[0])\n",
    "# print (labels)\n",
    "\n",
    "M_features, M_labels = data.load_MNIST_13()\n",
    "MNIST_X_train, MNIST_X_test, MNIST_y_train, MNIST_y_test = train_test_split(\n",
    "    M_features, M_labels, test_size = 0.2)\n",
    "\n",
    "# print(M_features.shape)\n",
    "# print(M_labels.shape)\n",
    "\n",
    "# print (M_features[0])\n",
    "# print (M_labels)\n",
    "\n",
    "cod_features, cod_labels = data.load_cod_rna()\n",
    "# print(cod_features.shape)\n",
    "# print(cod_labels.shape)\n",
    "\n",
    "# print(cod_features[0])\n",
    "# print(cod_labels)\n",
    "\n",
    "cod_X_train, cod_X_test, cod_y_train, cod_y_test = train_test_split(\n",
    "    cod_features, cod_labels, test_size = 0.2)"
   ]
  },
  {
   "cell_type": "code",
   "execution_count": 10,
   "metadata": {},
   "outputs": [],
   "source": [
    "#Learning Rate Objects\n",
    "lr = FixedRate(0.001)\n",
    "\n",
    "lr1 = FixedRate(0.00001)\n",
    "\n",
    "lr2 = FixedRate(0.0001)"
   ]
  },
  {
   "cell_type": "code",
   "execution_count": 11,
   "metadata": {},
   "outputs": [],
   "source": [
    "#Descent Algorithm Objects\n",
    "gd = GradientDescent()\n",
    "gd1 = GradientDescent()\n",
    "gd2 = GradientDescent()\n",
    "# gd = StochasticVarianceReducedGradientDescent()\n",
    "# gd = NesterovAcceleratedDescent()"
   ]
  },
  {
   "cell_type": "code",
   "execution_count": 12,
   "metadata": {},
   "outputs": [],
   "source": [
    "#Models(descent_algo, learning rate, iterations, batch)\n",
    "logreg = LogisticRegression(gd, lr, 25000, wbc_X_train.shape[0])\n",
    "\n",
    "cod_logreg = LogisticRegression(gd1, lr1, 25000, cod_X_train.shape[0])\n",
    "\n",
    "MNIST_logreg = LogisticRegression(gd2, lr2, 2500, MNIST_X_train.shape[0])\n",
    "\n",
    "\n"
   ]
  },
  {
   "cell_type": "code",
   "execution_count": 13,
   "metadata": {},
   "outputs": [
    {
     "name": "stdout",
     "output_type": "stream",
     "text": [
      "Iter:        0 train loss: 385.360\n",
      "Iter:     2500 train loss: 249.695\n",
      "Iter:     5000 train loss: 235.068\n",
      "Iter:     7500 train loss: 230.211\n",
      "Iter:    10000 train loss: 228.117\n",
      "Iter:    12500 train loss: 227.087\n",
      "Iter:    15000 train loss: 226.536\n",
      "Iter:    17500 train loss: 226.223\n",
      "Iter:    20000 train loss: 226.038\n",
      "Iter:    22500 train loss: 225.924\n",
      "Iter:        0 train loss: 32624.829\n",
      "Iter:     2500 train loss: 16054.145\n",
      "Iter:     5000 train loss: 15478.478\n",
      "Iter:     7500 train loss: 15375.514\n",
      "Iter:    10000 train loss: 15350.594\n",
      "Iter:    12500 train loss: 15343.747\n",
      "Iter:    15000 train loss: 15341.697\n",
      "Iter:    17500 train loss: 15341.006\n",
      "Iter:    20000 train loss: 15340.714\n",
      "Iter:    22500 train loss: 15340.540\n",
      "Iter:        0 train loss: nan\n",
      "Iter:      250 train loss: 185.474\n",
      "Iter:      500 train loss: 145.757\n",
      "Iter:      750 train loss: 123.354\n",
      "Iter:     1000 train loss: nan\n",
      "Iter:     1250 train loss: nan\n",
      "Iter:     1500 train loss: nan\n",
      "Iter:     1750 train loss: nan\n",
      "Iter:     2000 train loss: nan\n",
      "Iter:     2250 train loss: nan\n"
     ]
    }
   ],
   "source": [
    "loss = logreg.fit(wbc_X_train, wbc_y_train)\n",
    "\n",
    "loss_cod = cod_logreg.fit(cod_X_train, cod_y_train)\n",
    "\n",
    "loss_MNIST = MNIST_logreg.fit(MNIST_X_train, MNIST_y_train)"
   ]
  },
  {
   "cell_type": "code",
   "execution_count": 14,
   "metadata": {
    "scrolled": true
   },
   "outputs": [
    {
     "name": "stdout",
     "output_type": "stream",
     "text": [
      "Model Accuracy: 90.71%\n",
      "Model Accuracy: 87.68%\n",
      "Model Accuracy: 99.18%\n"
     ]
    }
   ],
   "source": [
    "#modelAccuracyCheck\n",
    "acc = check_accuracy(logreg, wbc_X_test, wbc_y_test)\n",
    "print(\"Model Accuracy: {0:.2f}%\".format(acc * 100))\n",
    "\n",
    "acc = check_accuracy(cod_logreg, cod_X_test, cod_y_test)\n",
    "print(\"Model Accuracy: {0:.2f}%\".format(acc * 100))\n",
    "\n",
    "acc = check_accuracy(MNIST_logreg, MNIST_X_test, MNIST_y_test)\n",
    "print(\"Model Accuracy: {0:.2f}%\".format(acc * 100))\n",
    "\n"
   ]
  },
  {
   "cell_type": "code",
   "execution_count": 8,
   "metadata": {},
   "outputs": [
    {
     "ename": "NameError",
     "evalue": "name 'accuracies' is not defined",
     "output_type": "error",
     "traceback": [
      "\u001b[0;31m---------------------------------------------------------------------------\u001b[0m",
      "\u001b[0;31mNameError\u001b[0m                                 Traceback (most recent call last)",
      "\u001b[0;32m<ipython-input-8-f5452561562e>\u001b[0m in \u001b[0;36m<module>\u001b[0;34m\u001b[0m\n\u001b[1;32m      4\u001b[0m \u001b[0mplt\u001b[0m\u001b[0;34m.\u001b[0m\u001b[0mxlabel\u001b[0m\u001b[0;34m(\u001b[0m\u001b[0;34m'Iteration x10^2'\u001b[0m\u001b[0;34m)\u001b[0m\u001b[0;34m\u001b[0m\u001b[0;34m\u001b[0m\u001b[0m\n\u001b[1;32m      5\u001b[0m \u001b[0mplt\u001b[0m\u001b[0;34m.\u001b[0m\u001b[0mylabel\u001b[0m\u001b[0;34m(\u001b[0m\u001b[0;34m'Accuracy'\u001b[0m\u001b[0;34m)\u001b[0m\u001b[0;34m\u001b[0m\u001b[0;34m\u001b[0m\u001b[0m\n\u001b[0;32m----> 6\u001b[0;31m \u001b[0mplt\u001b[0m\u001b[0;34m.\u001b[0m\u001b[0mplot\u001b[0m\u001b[0;34m(\u001b[0m\u001b[0maccuracies\u001b[0m\u001b[0;34m,\u001b[0m \u001b[0;34m'b'\u001b[0m\u001b[0;34m)\u001b[0m\u001b[0;34m\u001b[0m\u001b[0;34m\u001b[0m\u001b[0m\n\u001b[0m\u001b[1;32m      7\u001b[0m \u001b[0mplt\u001b[0m\u001b[0;34m.\u001b[0m\u001b[0mshow\u001b[0m\u001b[0;34m(\u001b[0m\u001b[0;34m)\u001b[0m\u001b[0;34m\u001b[0m\u001b[0;34m\u001b[0m\u001b[0m\n\u001b[1;32m      8\u001b[0m \u001b[0mplt\u001b[0m\u001b[0;34m.\u001b[0m\u001b[0mfigure\u001b[0m\u001b[0;34m(\u001b[0m\u001b[0;36m300\u001b[0m\u001b[0;34m)\u001b[0m\u001b[0;34m\u001b[0m\u001b[0;34m\u001b[0m\u001b[0m\n",
      "\u001b[0;31mNameError\u001b[0m: name 'accuracies' is not defined"
     ]
    },
    {
     "data": {
      "image/png": "[encoded data removed]",
      "text/plain": [
       "<Figure size 432x288 with 1 Axes>"
      ]
     },
     "metadata": {
      "needs_background": "light"
     },
     "output_type": "display_data"
    }
   ],
   "source": [
    "import matplotlib.pyplot as plt\n",
    "plt.figure(200)\n",
    "plt.title('Training Accuracy')\n",
    "plt.xlabel('Iteration x10^2')\n",
    "plt.ylabel('Accuracy')\n",
    "plt.plot(accuracies, 'b')\n",
    "plt.show()\n",
    "plt.figure(300)\n",
    "plt.title('Validation Accuracy')\n",
    "plt.xlabel('Iteration x10^2')\n",
    "plt.ylabel('Accuracy')\n",
    "plt.plot(val_accuracies, 'b')\n",
    "plt.show()"
   ]
  },
  {
   "cell_type": "code",
   "execution_count": null,
   "metadata": {},
   "outputs": [],
   "source": []
  }
 ],
 "metadata": {
  "kernelspec": {
   "display_name": "Python 3",
   "language": "python",
   "name": "python3"
  },
  "language_info": {
   "codemirror_mode": {
    "name": "ipython",
    "version": 3
   },
   "file_extension": ".py",
   "mimetype": "text/x-python",
   "name": "python",
   "nbconvert_exporter": "python",
   "pygments_lexer": "ipython3",
   "version": "3.6.7"
  }
 },
 "nbformat": 4,
 "nbformat_minor": 2
}
