{
 "cells": [
  {
   "cell_type": "markdown",
   "metadata": {},
   "source": [
    "---------------------------------DATA PREPROCESSING---------------------------------"
   ]
  },
  {
   "cell_type": "code",
   "execution_count": 1,
   "metadata": {},
   "outputs": [],
   "source": [
    "import numpy as np\n",
    "\n",
    "import datasets.data as data\n",
    "from descent_algorithms import *\n",
    "from models import *"
   ]
  },
  {
   "cell_type": "code",
   "execution_count": 2,
   "metadata": {},
   "outputs": [],
   "source": [
    "features, labels = data.load_wisconsin_breast_cancer()"
   ]
  },
  {
   "cell_type": "code",
   "execution_count": 3,
   "metadata": {},
   "outputs": [],
   "source": [
    "labels = np.reshape(labels, (-1, 1))"
   ]
  },
  {
   "cell_type": "code",
   "execution_count": 4,
   "metadata": {},
   "outputs": [],
   "source": [
    "gd = GradientDescent(0.001)\n",
    "logreg = LogisticRegression(gd, 1, 1000, 10)"
   ]
  },
  {
   "cell_type": "code",
   "execution_count": 5,
   "metadata": {
    "collapsed": true
   },
   "outputs": [
    {
     "name": "stdout",
     "output_type": "stream",
     "text": [
      "Iter:        0 batch loss: 6.931\n",
      "Iter:      100 batch loss: 6.931\n",
      "Iter:      200 batch loss: 6.931\n",
      "Iter:      300 batch loss: 6.931\n",
      "Iter:      400 batch loss: 6.931\n",
      "Iter:      500 batch loss: 6.931\n",
      "Iter:      600 batch loss: 6.931\n",
      "Iter:      700 batch loss: 6.931\n",
      "Iter:      800 batch loss: 6.931\n",
      "Iter:      900 batch loss: 6.931\n",
      "[[0.284925]\n",
      " [0.708225]\n",
      " [0.66685 ]\n",
      " [0.5177  ]\n",
      " [0.2246  ]\n",
      " [0.885725]\n",
      " [0.3524  ]\n",
      " [0.597175]\n",
      " [0.10045 ]]\n"
     ]
    }
   ],
   "source": [
    "logreg.fit(features, labels)"
   ]
  },
  {
   "cell_type": "code",
   "execution_count": 6,
   "metadata": {},
   "outputs": [],
   "source": [
    "def check_accuracy(model,X,y):\n",
    "    num_samples, num_features = X.shape\n",
    "    accurate = 0\n",
    "\n",
    "    prediction = model.predict(X)\n",
    "    for i in range(num_samples):\n",
    "        label = 0\n",
    "        if prediction[i]>= .5:\n",
    "            label = 1\n",
    "\n",
    "        if label == y[i]:\n",
    "            accurate += 1\n",
    "    print (accurate)\n",
    "    print (num_samples)\n",
    "    return (accurate / float(num_samples))"
   ]
  },
  {
   "cell_type": "code",
   "execution_count": 7,
   "metadata": {},
   "outputs": [
    {
     "name": "stdout",
     "output_type": "stream",
     "text": [
      "241\n",
      "698\n"
     ]
    },
    {
     "data": {
      "text/plain": [
       "0.3452722063037249"
      ]
     },
     "execution_count": 7,
     "metadata": {},
     "output_type": "execute_result"
    }
   ],
   "source": [
    "check_accuracy(logreg, features, labels)"
   ]
  },
  {
   "cell_type": "code",
   "execution_count": null,
   "metadata": {},
   "outputs": [],
   "source": []
  }
 ],
 "metadata": {
  "kernelspec": {
   "display_name": "Python 3",
   "language": "python",
   "name": "python3"
  },
  "language_info": {
   "codemirror_mode": {
    "name": "ipython",
    "version": 3
   },
   "file_extension": ".py",
   "mimetype": "text/x-python",
   "name": "python",
   "nbconvert_exporter": "python",
   "pygments_lexer": "ipython3",
   "version": "3.6.6"
  }
 },
 "nbformat": 4,
 "nbformat_minor": 2
}
