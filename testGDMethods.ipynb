{
 "cells": [
  {
   "cell_type": "markdown",
   "metadata": {},
   "source": [
    "---------------------------------DATA PREPROCESSING---------------------------------"
   ]
  },
  {
   "cell_type": "code",
   "execution_count": 1,
   "metadata": {},
   "outputs": [],
   "source": [
    "import numpy as np\n",
    "\n",
    "import datasets.data as data\n",
    "from descent_algorithms import *\n",
    "from models import *"
   ]
  },
  {
   "cell_type": "code",
   "execution_count": 2,
   "metadata": {},
   "outputs": [],
   "source": [
    "features, labels = data.load_wisconsin_breast_cancer()"
   ]
  },
  {
   "cell_type": "code",
   "execution_count": 3,
   "metadata": {},
   "outputs": [],
   "source": [
    "labels = np.reshape(labels, (-1, 1))"
   ]
  },
  {
   "cell_type": "code",
   "execution_count": 4,
   "metadata": {},
   "outputs": [],
   "source": [
    "gd = GradientDescent(0.01)\n",
    "lr = FixedRate(0.001)\n",
    "logreg = LogisticRegression(gd, lr, 1000, 100)"
   ]
  },
  {
   "cell_type": "code",
   "execution_count": 5,
   "metadata": {},
   "outputs": [
    {
     "name": "stdout",
     "output_type": "stream",
     "text": [
      "Iter:        0 batch loss: 69.315\n",
      "Iter:      100 batch loss: 66.523\n",
      "Iter:      200 batch loss: 61.176\n",
      "Iter:      300 batch loss: 56.294\n",
      "Iter:      400 batch loss: 54.128\n",
      "Iter:      500 batch loss: 51.733\n",
      "Iter:      600 batch loss: 52.265\n",
      "Iter:      700 batch loss: 53.779\n",
      "Iter:      800 batch loss: 54.715\n",
      "Iter:      900 batch loss: 50.786\n"
     ]
    }
   ],
   "source": [
    "logreg.fit(features, labels)"
   ]
  },
  {
   "cell_type": "code",
   "execution_count": 6,
   "metadata": {},
   "outputs": [],
   "source": [
    "def check_accuracy(model,X,y):\n",
    "    num_samples, num_features = X.shape\n",
    "    accurate = 0\n",
    "\n",
    "    prediction = model.predict(X)\n",
    "    for i in range(num_samples):\n",
    "        label = 0\n",
    "        if prediction[i]>= .5:\n",
    "            label = 1\n",
    "\n",
    "        if label == y[i]:\n",
    "            accurate += 1\n",
    "    print (accurate)\n",
    "    print (num_samples)\n",
    "    return (accurate / float(num_samples))"
   ]
  },
  {
   "cell_type": "code",
   "execution_count": 7,
   "metadata": {},
   "outputs": [
    {
     "name": "stdout",
     "output_type": "stream",
     "text": [
      "598\n",
      "698\n"
     ]
    },
    {
     "data": {
      "text/plain": [
       "0.8567335243553008"
      ]
     },
     "execution_count": 7,
     "metadata": {},
     "output_type": "execute_result"
    }
   ],
   "source": [
    "check_accuracy(logreg, features, labels)"
   ]
  },
  {
   "cell_type": "code",
   "execution_count": null,
   "metadata": {},
   "outputs": [],
   "source": []
  }
 ],
 "metadata": {
  "kernelspec": {
   "display_name": "Python 3",
   "language": "python",
   "name": "python3"
  },
  "language_info": {
   "codemirror_mode": {
    "name": "ipython",
    "version": 3
   },
   "file_extension": ".py",
   "mimetype": "text/x-python",
   "name": "python",
   "nbconvert_exporter": "python",
   "pygments_lexer": "ipython3",
   "version": "3.6.6"
  }
 },
 "nbformat": 4,
 "nbformat_minor": 2
}
