{
 "cells": [
  {
   "cell_type": "markdown",
   "metadata": {},
   "source": [
    "---------------------------------DATA PREPROCESSING---------------------------------"
   ]
  },
  {
   "cell_type": "code",
   "execution_count": 1,
   "metadata": {},
   "outputs": [
    {
     "name": "stderr",
     "output_type": "stream",
     "text": [
      "Using TensorFlow backend.\n"
     ]
    }
   ],
   "source": [
    "import numpy as np\n",
    "from sklearn.model_selection import train_test_split\n",
    "\n",
    "import datasets.data as data\n",
    "from descent_algorithms import *\n",
    "from models import *\n",
    "from util import *"
   ]
  },
  {
   "cell_type": "code",
   "execution_count": 2,
   "metadata": {},
   "outputs": [],
   "source": [
    "features, labels = data.load_wisconsin_breast_cancer()\n",
    "wbc_X_train, wbc_X_test, wbc_y_train, wbc_y_test = train_test_split(\n",
    "    features, labels, test_size=0.2)\n",
    "# print(features.shape)\n",
    "# print(labels.shape)\n",
    "\n",
    "# print (features[0])\n",
    "# print (labels)\n",
    "\n",
    "M_features, M_labels = data.load_MNIST_13()\n",
    "MNIST_X_train, MNIST_X_test, MNIST_y_train, MNIST_y_test = train_test_split(\n",
    "    M_features, M_labels, test_size = 0.2)\n",
    "\n",
    "# print(M_features.shape)\n",
    "# print(M_labels.shape)\n",
    "\n",
    "# print (M_features[0])\n",
    "# print (M_labels)\n",
    "\n",
    "cod_features, cod_labels = data.load_cod_rna()\n",
    "# print(cod_features.shape)\n",
    "# print(cod_labels.shape)\n",
    "\n",
    "# print(cod_features[0])\n",
    "# print(cod_labels)\n",
    "\n",
    "cod_X_train, cod_X_test, cod_y_train, cod_y_test = train_test_split(\n",
    "    cod_features, cod_labels, test_size = 0.2)"
   ]
  },
  {
   "cell_type": "code",
   "execution_count": 3,
   "metadata": {},
   "outputs": [],
   "source": [
    "rel_conv = 0.000001"
   ]
  },
  {
   "cell_type": "code",
   "execution_count": 4,
   "metadata": {},
   "outputs": [],
   "source": [
    "#Learning Rate Objects\n",
    "lr = FixedRate(0.001)\n",
    "\n",
    "lr1 = FixedRate(0.00001)\n",
    "\n",
    "lr2 = FixedRate(0.0001)"
   ]
  },
  {
   "cell_type": "code",
   "execution_count": 5,
   "metadata": {},
   "outputs": [],
   "source": [
    "#Descent Algorithm Objects\n",
    "gd = GradientDescent()\n",
    "gd1 = GradientDescent()\n",
    "gd2 = GradientDescent()\n",
    "# gd = StochasticVarianceReducedGradientDescent()\n",
    "# gd = NesterovAcceleratedDescent()"
   ]
  },
  {
   "cell_type": "code",
   "execution_count": 6,
   "metadata": {},
   "outputs": [],
   "source": [
    "#Models(descent_algo, learning rate, iterations, batch, relative convergence)\n",
    "logreg = LogisticRegression(gd, lr, 25000, wbc_X_train.shape[0], rel_conv)\n",
    "\n",
    "cod_logreg = LogisticRegression(gd1, lr1, 25000, cod_X_train.shape[0], rel_conv)\n",
    "\n",
    "MNIST_logreg = LogisticRegression(gd2, lr2, 2500, MNIST_X_train.shape[0], rel_conv)\n",
    "\n",
    "\n",
    "#Models(descent_algo, learning rate, iterations, batch, relative convergence)\n",
    "# logreg = LogisticRegression(gd, lr, 16000, wbc_X_train.shape[0], rel_conv)"
   ]
  },
  {
   "cell_type": "code",
   "execution_count": 7,
   "metadata": {},
   "outputs": [
    {
     "name": "stdout",
     "output_type": "stream",
     "text": [
      "Iter:        0 train loss: 385.455\n",
      "Iter:     1250 train loss: 265.970\n",
      "Iter:     2500 train loss: 242.535\n",
      "Iter:     3750 train loss: 232.572\n",
      "Iter:     5000 train loss: 227.226\n",
      "Iter:     6250 train loss: 223.995\n",
      "Iter:     7500 train loss: 221.893\n",
      "Iter:     8750 train loss: 220.456\n",
      "Iter:    10000 train loss: 219.436\n",
      "Iter:    11250 train loss: 218.690\n",
      "Iter:    12500 train loss: 218.132\n",
      "Iter:    13750 train loss: 217.707\n",
      "Iter:    15000 train loss: 217.377\n",
      "Convergence in 15356 iterations\n",
      "Iter:        0 train loss: 32630.531\n",
      "Iter:     1250 train loss: 17459.898\n",
      "Iter:     2500 train loss: 15992.397\n",
      "Iter:     3750 train loss: 15572.831\n",
      "Iter:     5000 train loss: 15411.665\n",
      "Iter:     6250 train loss: 15340.667\n",
      "Iter:     7500 train loss: 15306.877\n",
      "Convergence in 7858 iterations\n",
      "Iter:        0 train loss: nan\n"
     ]
    },
    {
     "name": "stderr",
     "output_type": "stream",
     "text": [
      "/Users/willye/Desktop/MLO_final/mlo_final_project/models.py:67: RuntimeWarning: divide by zero encountered in log\n",
      "  return np.dot(-y.T, np.log(h)) - np.dot((1 - y).T,np.log(1 - h))\n"
     ]
    },
    {
     "name": "stdout",
     "output_type": "stream",
     "text": [
      "Iter:      125 train loss: 237.035\n",
      "Iter:      250 train loss: 195.445\n",
      "Iter:      375 train loss: 172.711\n",
      "Iter:      500 train loss: 156.841\n",
      "Iter:      625 train loss: 144.800\n",
      "Iter:      750 train loss: 135.222\n",
      "Iter:      875 train loss: nan\n",
      "Iter:     1000 train loss: nan\n",
      "Iter:     1125 train loss: nan\n",
      "Iter:     1250 train loss: nan\n",
      "Iter:     1375 train loss: nan\n",
      "Iter:     1500 train loss: nan\n",
      "Iter:     1625 train loss: nan\n",
      "Iter:     1750 train loss: nan\n",
      "Iter:     1875 train loss: nan\n",
      "Iter:     2000 train loss: nan\n",
      "Iter:     2125 train loss: nan\n",
      "Iter:     2250 train loss: nan\n",
      "Iter:     2375 train loss: nan\n"
     ]
    }
   ],
   "source": [
    "loss = logreg.fit(wbc_X_train, wbc_y_train)\n",
    "\n",
    "loss_cod = cod_logreg.fit(cod_X_train, cod_y_train)\n",
    "\n",
    "loss_MNIST = MNIST_logreg.fit(MNIST_X_train, MNIST_y_train)"
   ]
  },
  {
   "cell_type": "code",
   "execution_count": 8,
   "metadata": {
    "scrolled": true
   },
   "outputs": [
    {
     "name": "stdout",
     "output_type": "stream",
     "text": [
      "Model Accuracy: 88.57%\n",
      "Model Accuracy: 87.12%\n",
      "Model Accuracy: 99.30%\n"
     ]
    }
   ],
   "source": [
    "#modelAccuracyCheck\n",
    "acc = check_accuracy(logreg, wbc_X_test, wbc_y_test)\n",
    "print(\"Model Accuracy: {0:.2f}%\".format(acc * 100))\n",
    "\n",
    "acc = check_accuracy(cod_logreg, cod_X_test, cod_y_test)\n",
    "print(\"Model Accuracy: {0:.2f}%\".format(acc * 100))\n",
    "\n",
    "acc = check_accuracy(MNIST_logreg, MNIST_X_test, MNIST_y_test)\n",
    "print(\"Model Accuracy: {0:.2f}%\".format(acc * 100))\n",
    "\n"
   ]
  },
  {
   "cell_type": "code",
   "execution_count": 9,
   "metadata": {},
   "outputs": [
    {
     "data": {
      "image/png": "[encoded data removed]",
      "text/plain": [
       "<Figure size 864x432 with 1 Axes>"
      ]
     },
     "metadata": {
      "needs_background": "light"
     },
     "output_type": "display_data"
    }
   ],
   "source": [
    "import matplotlib.pyplot as plt\n",
    "# plt.figure(200)\n",
    "# plt.title('Training Accuracy')\n",
    "# plt.xlabel('Iteration x10^2')\n",
    "# plt.ylabel('Accuracy')\n",
    "# plt.plot(accuracies, 'b')\n",
    "# plt.show()\n",
    "# plt.figure(300)\n",
    "# plt.title('Validation Accuracy')\n",
    "# plt.xlabel('Iteration x10^2')\n",
    "# plt.ylabel('Accuracy')\n",
    "# plt.plot(val_accuracies, 'b')\n",
    "# plt.show()\n",
    "plt.figure(1, figsize=(12, 6))\n",
    "plt.title('Loss Plot')\n",
    "plt.xlabel('Iteration Number')\n",
    "plt.ylabel('Loss')\n",
    "plt.plot(loss, 'b')\n",
    "plt.show()"
   ]
  },
  {
   "cell_type": "code",
   "execution_count": null,
   "metadata": {},
   "outputs": [],
   "source": []
  },
  {
   "cell_type": "code",
   "execution_count": null,
   "metadata": {},
   "outputs": [],
   "source": []
  }
 ],
 "metadata": {
  "kernelspec": {
   "display_name": "Python 3",
   "language": "python",
   "name": "python3"
  },
  "language_info": {
   "codemirror_mode": {
    "name": "ipython",
    "version": 3
   },
   "file_extension": ".py",
   "mimetype": "text/x-python",
   "name": "python",
   "nbconvert_exporter": "python",
   "pygments_lexer": "ipython3",
   "version": "3.6.7"
  }
 },
 "nbformat": 4,
 "nbformat_minor": 2
}
