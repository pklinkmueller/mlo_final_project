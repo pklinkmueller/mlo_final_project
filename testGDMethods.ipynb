{
 "cells": [
  {
   "cell_type": "markdown",
   "metadata": {},
   "source": [
    "---------------------------------DATA PREPROCESSING---------------------------------"
   ]
  },
  {
   "cell_type": "code",
   "execution_count": 1,
   "metadata": {},
   "outputs": [
    {
     "name": "stderr",
     "output_type": "stream",
     "text": [
      "Using TensorFlow backend.\n"
     ]
    }
   ],
   "source": [
    "import numpy as np\n",
    "from sklearn.model_selection import train_test_split\n",
    "\n",
    "import datasets.data as data\n",
    "from descent_algorithms import *\n",
    "from models import *\n",
    "from util import *\n",
    "from learning_rates import *"
   ]
  },
  {
   "cell_type": "code",
   "execution_count": 2,
   "metadata": {},
   "outputs": [],
   "source": [
    "features, labels = data.load_wisconsin_breast_cancer()\n",
    "wbc_X_train, wbc_X_test, wbc_y_train, wbc_y_test = train_test_split(\n",
    "    features, labels, test_size=0.2)\n",
    "\n",
    "cod_features, cod_labels = data.load_cod_rna()\n",
    "cod_X_train, cod_X_test, cod_y_train, cod_y_test = train_test_split(\n",
    "    cod_features, cod_labels, test_size = 0.2)"
   ]
  },
  {
   "cell_type": "code",
   "execution_count": 3,
   "metadata": {},
   "outputs": [],
   "source": [
    "rl_conv = 0.0000000"
   ]
  },
  {
   "cell_type": "code",
   "execution_count": 4,
   "metadata": {},
   "outputs": [],
   "source": [
    "#Learning Rate Objects\n",
    "lr = FixedRate(0.00001)"
   ]
  },
  {
   "cell_type": "code",
   "execution_count": 5,
   "metadata": {
    "scrolled": true
   },
   "outputs": [
    {
     "name": "stdout",
     "output_type": "stream",
     "text": [
      "(558, 1)\n",
      "Iter:        0 train loss: 7.741\n",
      "Iter:       10 train loss: 0.800\n",
      "Iter:       20 train loss: 2.882\n",
      "Iter:       30 train loss: 1.812\n",
      "Iter:       40 train loss: 0.967\n",
      "Iter:       50 train loss: 1.157\n",
      "Iter:       60 train loss: 2.442\n",
      "Iter:       70 train loss: 1.328\n",
      "Iter:       80 train loss: 1.193\n",
      "Iter:       90 train loss: 3.237\n"
     ]
    }
   ],
   "source": [
    "gd = GradientDescent()\n",
    "\n",
    "#num = 20000\n",
    "#wbc_X_train = wbc_X_train[0:num]\n",
    "#wbc_X_test = wbc_X_test[0:num]\n",
    "#wbc_y_train = wbc_y_train[0:num]\n",
    "#wbc_y_test = wbc_y_test[0:num]\n",
    "print(wbc_y_train.shape)\n",
    "X = np.array([\n",
    "    [-2, -4],\n",
    "    [-4, -1],\n",
    "    [1, 6],\n",
    "    [2, 4],\n",
    "    [6, 2]\n",
    "])\n",
    "\n",
    "y = np.array([-1,-1,1,1,1])\n",
    "y = y.reshape((y.shape[0], 1))\n",
    "\n",
    "wbc_y_train_svm = zero_one_labels_to_signed(wbc_y_train)\n",
    "svm = SVM(gd, FixedRate(0.1), 0.0001, 100, X.shape[0], rl_conv)\n",
    "loss = svm.fit(wbc_X_train, wbc_y_train_svm)"
   ]
  },
  {
   "cell_type": "code",
   "execution_count": 6,
   "metadata": {},
   "outputs": [
    {
     "name": "stdout",
     "output_type": "stream",
     "text": [
      "Model Accuracy: 85.71%\n"
     ]
    }
   ],
   "source": [
    "wbc_y_test_svm = zero_one_labels_to_signed(wbc_y_test)\n",
    "acc = check_accuracy_svm(svm, wbc_X_test, wbc_y_test_svm)\n",
    "print(\"Model Accuracy: {0:.2f}%\".format(acc * 100))"
   ]
  },
  {
   "cell_type": "code",
   "execution_count": 7,
   "metadata": {},
   "outputs": [
    {
     "data": {
      "text/plain": [
       "<matplotlib.quiver.Quiver at 0x134bfe8d9b0>"
      ]
     },
     "execution_count": 7,
     "metadata": {},
     "output_type": "execute_result"
    },
    {
     "data": {
      "image/png": "[encoded data removed]",
      "text/plain": [
       "<Figure size 432x288 with 1 Axes>"
      ]
     },
     "metadata": {
      "needs_background": "light"
     },
     "output_type": "display_data"
    }
   ],
   "source": [
    "for d, sample in enumerate(X):\n",
    "    # Plot the negative samples\n",
    "    if d < 2:\n",
    "        plt.scatter(sample[0], sample[1], s=120, marker='_', linewidths=2)\n",
    "    # Plot the positive samples\n",
    "    else:\n",
    "        plt.scatter(sample[0], sample[1], s=120, marker='+', linewidths=2)\n",
    "\n",
    "# Add our test samples\n",
    "w = svm.w\n",
    "\n",
    "# Print the hyperplane calculated by svm_sgd()\n",
    "x2=[w[0],w[1],-w[1],w[0]]\n",
    "x3=[w[0],w[1],w[1],-w[0]]\n",
    "\n",
    "x2x3 =np.array([x2,x3])\n",
    "X,Y,U,V = zip(*x2x3)\n",
    "ax = plt.gca()\n",
    "ax.quiver(X,Y,U,V,scale=1, color='blue')"
   ]
  },
  {
   "cell_type": "code",
   "execution_count": 8,
   "metadata": {},
   "outputs": [],
   "source": [
    "#Descent Algorithm Objects\n",
    "gd = GradientDescent()\n",
    "gd1 = GradientDescent()\n",
    "gd2 = GradientDescent()\n",
    "# gd = StochasticVarianceReducedGradientDescent()\n",
    "# gd = NesterovAcceleratedDescent()"
   ]
  },
  {
   "cell_type": "code",
   "execution_count": 9,
   "metadata": {},
   "outputs": [],
   "source": [
    "#Models(descent_algo, learning rate, iterations, batch, relative convergence)\n",
    "logreg = LogisticRegression(gd, lr, 25000, wbc_X_train.shape[0], rl_conv)"
   ]
  },
  {
   "cell_type": "code",
   "execution_count": 10,
   "metadata": {},
   "outputs": [
    {
     "name": "stderr",
     "output_type": "stream",
     "text": [
      "D:\\github\\mlo_final_project\\models.py:71: RuntimeWarning: divide by zero encountered in log\n",
      "  return np.dot(-y.T, np.log(h)) - np.dot((1 - y).T,np.log(1 - h))\n",
      "D:\\github\\mlo_final_project\\models.py:71: RuntimeWarning: invalid value encountered in log\n",
      "  return np.dot(-y.T, np.log(h)) - np.dot((1 - y).T,np.log(1 - h))\n"
     ]
    },
    {
     "ename": "ValueError",
     "evalue": "could not broadcast input array from shape (9) into shape (1)",
     "output_type": "error",
     "traceback": [
      "\u001b[1;31m---------------------------------------------------------------------------\u001b[0m",
      "\u001b[1;31mValueError\u001b[0m                                Traceback (most recent call last)",
      "\u001b[1;32m<ipython-input-10-999a65259fa2>\u001b[0m in \u001b[0;36m<module>\u001b[1;34m()\u001b[0m\n\u001b[1;32m----> 1\u001b[1;33m \u001b[0mloss\u001b[0m \u001b[1;33m=\u001b[0m \u001b[0mlogreg\u001b[0m\u001b[1;33m.\u001b[0m\u001b[0mfit\u001b[0m\u001b[1;33m(\u001b[0m\u001b[0mwbc_X_train\u001b[0m\u001b[1;33m,\u001b[0m \u001b[0mwbc_y_train\u001b[0m\u001b[1;33m)\u001b[0m\u001b[1;33m\u001b[0m\u001b[0m\n\u001b[0m",
      "\u001b[1;32mD:\\github\\mlo_final_project\\models.py\u001b[0m in \u001b[0;36mfit\u001b[1;34m(self, X, y)\u001b[0m\n\u001b[0;32m     95\u001b[0m         \u001b[0mself\u001b[0m\u001b[1;33m.\u001b[0m\u001b[0my\u001b[0m \u001b[1;33m=\u001b[0m \u001b[0my\u001b[0m\u001b[1;33m\u001b[0m\u001b[0m\n\u001b[0;32m     96\u001b[0m         \u001b[0mself\u001b[0m\u001b[1;33m.\u001b[0m\u001b[0mw\u001b[0m \u001b[1;33m=\u001b[0m \u001b[0mnp\u001b[0m\u001b[1;33m.\u001b[0m\u001b[0mrandom\u001b[0m\u001b[1;33m.\u001b[0m\u001b[0mrand\u001b[0m\u001b[1;33m(\u001b[0m\u001b[0mX\u001b[0m\u001b[1;33m.\u001b[0m\u001b[0mshape\u001b[0m\u001b[1;33m[\u001b[0m\u001b[1;36m1\u001b[0m\u001b[1;33m]\u001b[0m\u001b[1;33m,\u001b[0m \u001b[1;36m1\u001b[0m\u001b[1;33m)\u001b[0m\u001b[1;33m\u001b[0m\u001b[0m\n\u001b[1;32m---> 97\u001b[1;33m         \u001b[0mloss_data\u001b[0m \u001b[1;33m=\u001b[0m \u001b[0mtrain\u001b[0m\u001b[1;33m(\u001b[0m\u001b[0mX\u001b[0m\u001b[1;33m,\u001b[0m \u001b[0my\u001b[0m\u001b[1;33m,\u001b[0m \u001b[0mself\u001b[0m\u001b[1;33m,\u001b[0m \u001b[0mint\u001b[0m\u001b[1;33m(\u001b[0m\u001b[0mself\u001b[0m\u001b[1;33m.\u001b[0m\u001b[0mnum_iter\u001b[0m \u001b[1;33m/\u001b[0m \u001b[1;36m10\u001b[0m\u001b[1;33m)\u001b[0m\u001b[1;33m,\u001b[0m \u001b[0mself\u001b[0m\u001b[1;33m.\u001b[0m\u001b[0mrel_conv\u001b[0m\u001b[1;33m)\u001b[0m\u001b[1;33m\u001b[0m\u001b[0m\n\u001b[0m\u001b[0;32m     98\u001b[0m         \u001b[1;32mreturn\u001b[0m \u001b[0mloss_data\u001b[0m\u001b[1;33m\u001b[0m\u001b[0m\n\u001b[0;32m     99\u001b[0m     \"\"\"\n",
      "\u001b[1;32mD:\\github\\mlo_final_project\\models.py\u001b[0m in \u001b[0;36mtrain\u001b[1;34m(X, y, model, print_iter, rel_conv)\u001b[0m\n\u001b[0;32m    164\u001b[0m         \u001b[0mmodel\u001b[0m\u001b[1;33m.\u001b[0m\u001b[0mw\u001b[0m \u001b[1;33m=\u001b[0m \u001b[0mmodel\u001b[0m\u001b[1;33m.\u001b[0m\u001b[0mdescent\u001b[0m\u001b[1;33m.\u001b[0m\u001b[0mupdate\u001b[0m\u001b[1;33m(\u001b[0m\u001b[0mmodel\u001b[0m\u001b[1;33m,\u001b[0m \u001b[0mbX\u001b[0m\u001b[1;33m,\u001b[0m \u001b[0mbY\u001b[0m\u001b[1;33m)\u001b[0m\u001b[1;33m\u001b[0m\u001b[0m\n\u001b[0;32m    165\u001b[0m         \u001b[0mstart_idx\u001b[0m \u001b[1;33m=\u001b[0m \u001b[0mstop_idx\u001b[0m \u001b[1;33m%\u001b[0m \u001b[0mn\u001b[0m\u001b[1;33m\u001b[0m\u001b[0m\n\u001b[1;32m--> 166\u001b[1;33m         \u001b[0mloss_data\u001b[0m\u001b[1;33m[\u001b[0m\u001b[0mi\u001b[0m\u001b[1;33m]\u001b[0m \u001b[1;33m=\u001b[0m \u001b[0mmodel\u001b[0m\u001b[1;33m.\u001b[0m\u001b[0mloss\u001b[0m\u001b[1;33m(\u001b[0m\u001b[0mX\u001b[0m\u001b[1;33m,\u001b[0m \u001b[0my\u001b[0m\u001b[1;33m)\u001b[0m\u001b[1;33m\u001b[0m\u001b[0m\n\u001b[0m\u001b[0;32m    167\u001b[0m         \u001b[1;32mif\u001b[0m \u001b[0mi\u001b[0m \u001b[1;33m%\u001b[0m \u001b[0mprint_iter\u001b[0m \u001b[1;33m==\u001b[0m \u001b[1;36m0\u001b[0m\u001b[1;33m:\u001b[0m\u001b[1;33m\u001b[0m\u001b[0m\n\u001b[0;32m    168\u001b[0m             \u001b[0mprint\u001b[0m\u001b[1;33m(\u001b[0m\u001b[1;34m'Iter: {:8} train loss: {:.3f}'\u001b[0m\u001b[1;33m.\u001b[0m\u001b[0mformat\u001b[0m\u001b[1;33m(\u001b[0m\u001b[0mi\u001b[0m\u001b[1;33m,\u001b[0m \u001b[0mfloat\u001b[0m\u001b[1;33m(\u001b[0m\u001b[0mloss_data\u001b[0m\u001b[1;33m[\u001b[0m\u001b[0mi\u001b[0m\u001b[1;33m]\u001b[0m\u001b[1;33m)\u001b[0m\u001b[1;33m)\u001b[0m\u001b[1;33m)\u001b[0m\u001b[1;33m\u001b[0m\u001b[0m\n",
      "\u001b[1;31mValueError\u001b[0m: could not broadcast input array from shape (9) into shape (1)"
     ]
    }
   ],
   "source": [
    "loss = logreg.fit(wbc_X_train, wbc_y_train)"
   ]
  },
  {
   "cell_type": "code",
   "execution_count": null,
   "metadata": {
    "scrolled": true
   },
   "outputs": [],
   "source": [
    "#modelAccuracyCheck\n",
    "acc = check_accuracy(logreg, wbc_X_test, wbc_y_test)\n",
    "print(\"Model Accuracy: {0:.2f}%\".format(acc * 100))\n",
    "\n",
    "acc = check_accuracy(cod_logreg, cod_X_test, cod_y_test)\n",
    "print(\"Model Accuracy: {0:.2f}%\".format(acc * 100))\n",
    "\n",
    "acc = check_accuracy(MNIST_logreg, MNIST_X_test, MNIST_y_test)\n",
    "print(\"Model Accuracy: {0:.2f}%\".format(acc * 100))\n",
    "\n"
   ]
  },
  {
   "cell_type": "code",
   "execution_count": null,
   "metadata": {},
   "outputs": [],
   "source": [
    "import matplotlib.pyplot as plt\n",
    "# plt.figure(200)\n",
    "# plt.title('Training Accuracy')\n",
    "# plt.xlabel('Iteration x10^2')\n",
    "# plt.ylabel('Accuracy')\n",
    "# plt.plot(accuracies, 'b')\n",
    "# plt.show()\n",
    "# plt.figure(300)\n",
    "# plt.title('Validation Accuracy')\n",
    "# plt.xlabel('Iteration x10^2')\n",
    "# plt.ylabel('Accuracy')\n",
    "# plt.plot(val_accuracies, 'b')\n",
    "# plt.show()\n",
    "plt.figure(1, figsize=(12, 6))\n",
    "plt.title('Loss Plot')\n",
    "plt.xlabel('Iteration Number')\n",
    "plt.ylabel('Loss')\n",
    "plt.plot(loss, 'b')\n",
    "plt.show()"
   ]
  },
  {
   "cell_type": "code",
   "execution_count": null,
   "metadata": {},
   "outputs": [],
   "source": []
  },
  {
   "cell_type": "code",
   "execution_count": null,
   "metadata": {},
   "outputs": [],
   "source": []
  }
 ],
 "metadata": {
  "kernelspec": {
   "display_name": "Python 3",
   "language": "python",
   "name": "python3"
  },
  "language_info": {
   "codemirror_mode": {
    "name": "ipython",
    "version": 3
   },
   "file_extension": ".py",
   "mimetype": "text/x-python",
   "name": "python",
   "nbconvert_exporter": "python",
   "pygments_lexer": "ipython3",
   "version": "3.6.6"
  }
 },
 "nbformat": 4,
 "nbformat_minor": 2
}
