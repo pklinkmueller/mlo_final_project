{
 "cells": [
  {
   "cell_type": "code",
   "execution_count": 19,
   "metadata": {},
   "outputs": [
    {
     "name": "stdout",
     "output_type": "stream",
     "text": [
      "[0 0 0 0 1 0 0 0 0 0 0 1 0 1 1 0 0 1 0 1 1 0 1 0 1 0 0 0 0 0 0 1 0 0 0 1 0\n",
      " 1 1 0 1 1 1 1 0 1 0 0 1 1 1 1 1 1 1 1 1 1 1 1 0 1 1 0 1 0 1 1 0 0 1 0 1 1\n",
      " 0 0 0 0 0 0 0 0 0 1 1 1 1 0 0 0 0 0 0 0 0 0 0 1 1 1 1 0 1 1 1 1 1 0 1 0 1\n",
      " 1 1 0 0 0 1 0 0 0 0 1 1 1 0 1 0 1 0 0 0 1 0 0 0 0 0 0 0 0 0 1 0 0 0 1 0 0\n",
      " 1 0 1 1 0 0 1 0 0 0 1 1 0 0 0 0 0 1 1 0 0 0 0 0 1 1 1 0 1 0 1 0 0 0 1 1 0\n",
      " 1 1 1 0 1 1 0 0 0 0 0 0 0 0 1 1 0 0 0 1 1 0 0 0 1 1 0 1 1 1 0 0 1 0 0 1 1\n",
      " 1 1 0 1 1 0 1 1 1 0 1 0 0 1 1 1 1 0 0 0 0 0 0 1 1 0 0 0 1 0 1 1 1 0 0 0 0\n",
      " 1 1 1 1 1 0 1 1 1 0 1 0 1 1 0 0 0 0 0 1 0 0 1 1 1 1 1 0 1 1 0 0 1 1 0 1 0\n",
      " 0 0 1 1 0 1 0 1 1 0 0 1 0 0 0 1 0 0 0 1 1 0 0 1 0 0 1 0 0 1 0 1 1 1 0 0 1\n",
      " 1 0 1 0 0 1 1 0 0 0 1 0 0 0 1 1 0 0 0 1 0 0 1 1 1 1 1 1 0 0 0 0 1 1 0 0 0\n",
      " 0 0 0 0 0 0 0 0 0 0 1 0 0 0 0 1 0 0 0 0 1 0 0 0 0 0 0 0 0 1 0 0 0 0 0 0 0\n",
      " 0 0 0 0 1 0 1 0 1 0 0 0 0 1 0 0 0 1 0 1 0 0 0 0 0 0 0 1 1 0 0 0 1 0 0 0 0\n",
      " 0 0 0 0 1 0 0 0 1 0 1 1 1 0 0 0 0 0 0 0 1 1 1 0 0 0 0 0 0 0 0 0 0 0 1 0 0\n",
      " 1 1 0 0 0 1 1 1 0 1 0 1 0 0 0 0 0 0 0 0 0 0 0 0 1 0 0 0 0 0 0 0 1 1 0 0 0\n",
      " 1 0 0 1 1 0 0 0 0 0 0 1 0 0 0 0 0 0 0 0 0 0 0 0 0 0 0 1 0 0 1 0 0 0 0 0 0\n",
      " 0 0 0 0 0 0 0 0 0 1 0 0 1 1 1 1 0 0 1 0 0 0 0 0 0 1 1 0 0 0 1 0 1 0 1 1 1\n",
      " 0 1 0 0 0 0 0 0 0 0 1 1 1 0 0 1 0 1 1 1 0 0 0 0 0 0 0 0 0 0 0 0 0 1 0 0 0\n",
      " 0 0 0 1 0 0 1 0 0 0 0 0 0 0 0 0 0 0 1 0 0 0 0 0 0 0 0 0 1 0 0 0 0 0 0 0 0\n",
      " 0 1 1 1 0 0 0 0 0 0 0 0 0 1 1 0 0 0 0 0 0 0 0 0 1 0 0 0 0 1 1 1]\n"
     ]
    },
    {
     "ename": "NameError",
     "evalue": "name 'read' is not defined",
     "output_type": "error",
     "traceback": [
      "\u001b[0;31m---------------------------------------------------------------------------\u001b[0m",
      "\u001b[0;31mNameError\u001b[0m                                 Traceback (most recent call last)",
      "\u001b[0;32m<ipython-input-19-33df23820900>\u001b[0m in \u001b[0;36m<module>\u001b[0;34m()\u001b[0m\n\u001b[1;32m     53\u001b[0m \u001b[0;31m#f_s = open(\"datasets/spam_sms/SMSSpamCollection\",\"r\")\u001b[0m\u001b[0;34m\u001b[0m\u001b[0;34m\u001b[0m\u001b[0m\n\u001b[1;32m     54\u001b[0m \u001b[0;34m\u001b[0m\u001b[0m\n\u001b[0;32m---> 55\u001b[0;31m \u001b[0msms_raw\u001b[0m \u001b[0;34m=\u001b[0m \u001b[0mread\u001b[0m\u001b[0;34m.\u001b[0m\u001b[0mcsv\u001b[0m\u001b[0;34m(\u001b[0m\u001b[0;34m\"datasets/spam_sms/SMSSpamCollection\"\u001b[0m\u001b[0;34m)\u001b[0m\u001b[0;34m\u001b[0m\u001b[0m\n\u001b[0m\u001b[1;32m     56\u001b[0m \u001b[0;32mprint\u001b[0m \u001b[0msms_raw\u001b[0m\u001b[0;34m\u001b[0m\u001b[0m\n\u001b[1;32m     57\u001b[0m \u001b[0;34m\u001b[0m\u001b[0m\n",
      "\u001b[0;31mNameError\u001b[0m: name 'read' is not defined"
     ]
    }
   ],
   "source": [
    "import sys\n",
    "import numpy as np\n",
    "import pandas as pd\n",
    "import csv\n",
    "import nltk\n",
    "\n",
    "# Everything has been split roughly into 80:20 training:testing from the datasets\n",
    "####################################################################################################\n",
    "# mammogram vectorization \n",
    "# 961 samples\n",
    "# contains '?' values for undefined/missing\n",
    "# label 0 for benign, 1 for malignant\n",
    "df = pd.read_csv('datasets/mammograms/mammographic_masses.data')\n",
    "mammograms = df.values\n",
    "\n",
    "mammogram_features = mammograms[:,:-1]\n",
    "mammogram_labels = mammograms[:,-1]\n",
    "\n",
    "m_train = mammogram_features[:769,]\n",
    "m_test = mammogram_features[770:,]\n",
    "\n",
    "m_train_labels = mammogram_labels[:769,]\n",
    "m_test_labels = mammogram_labels[770:,]\n",
    "\n",
    "####################################################################################################\n",
    "# wisconsin breast cancer vectorization\n",
    "# 669 samples\n",
    "# contains '?' values for undefined/missing\n",
    "# label 0 for benign, 1 for malignant\n",
    "\n",
    "df1 = pd.read_csv('datasets/wisconsin_breast_cancer/breast-cancer-wisconsin.data')\n",
    "wbc = df1.values\n",
    "\n",
    "wbc_features = wbc[:,1:-1]\n",
    "wbc_labels = wbc[:,-1]\n",
    "\n",
    "wbc_labels /= 2\n",
    "wbc_labels -= 1\n",
    "print wbc_labels\n",
    "\n",
    "wbc_train = wbc_features[:559,]\n",
    "wbc_test = wbc_features[560:,]\n",
    "\n",
    "wbc_train_labels = wbc_labels[:559,]\n",
    "wbc_test_labels = wbc_labels[560:,]\n",
    "####################################################################################################\n",
    "# spam_sms vectorization\n",
    "#f_s = open(\"datasets/spam_sms/SMSSpamCollection\",\"r\")\n",
    "\n",
    "sms_raw = read.csv(\"datasets/spam_sms/SMSSpamCollection\")\n",
    "print sms_raw\n",
    "\n",
    "####################################################################################################\n",
    "# AUS rain prediction vectorization\n",
    "# ACHTUNG: might need more preprocessing because of text values in some\n",
    "\n",
    "#df1 = pd.read_csv(\"datasets/AUS_rain/weatherAUS.csv\")\n",
    "#df_features = df1.drop(['RISK_MM','RainTomorrow'], axis=1)\n",
    "#df_labels = df1[['RainTomorrow']]\n",
    "\n",
    "#aus_features = df_features.values\n",
    "#aus_labels = df_labels.values"
   ]
  },
  {
   "cell_type": "code",
   "execution_count": null,
   "metadata": {},
   "outputs": [],
   "source": []
  },
  {
   "cell_type": "code",
   "execution_count": null,
   "metadata": {},
   "outputs": [],
   "source": []
  }
 ],
 "metadata": {
  "kernelspec": {
   "display_name": "Python 2",
   "language": "python",
   "name": "python2"
  },
  "language_info": {
   "codemirror_mode": {
    "name": "ipython",
    "version": 2
   },
   "file_extension": ".py",
   "mimetype": "text/x-python",
   "name": "python",
   "nbconvert_exporter": "python",
   "pygments_lexer": "ipython2",
   "version": "2.7.15"
  }
 },
 "nbformat": 4,
 "nbformat_minor": 2
}
