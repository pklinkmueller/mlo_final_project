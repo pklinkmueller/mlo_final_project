{
 "cells": [
  {
   "cell_type": "code",
   "execution_count": 14,
   "metadata": {},
   "outputs": [
    {
     "name": "stdout",
     "output_type": "stream",
     "text": [
      "[0. 0. 1. ... 1. 1. 1.]\n"
     ]
    }
   ],
   "source": [
    "import sys\n",
    "import numpy as np\n",
    "import pandas as pd\n",
    "import csv\n",
    "import nltk\n",
    "from sklearn.cross_validation import train_test_split\n",
    "from sklearn.datasets import load_svmlight_file\n",
    "\n",
    "# Everything has been split roughly into 80:20 training:testing from the datasets\n",
    "####################################################################################################\n",
    "# mammogram vectorization \n",
    "# 961 samples\n",
    "# contains '?' values for undefined/missing\n",
    "# label 0 for benign, 1 for malignant\n",
    "df = pd.read_csv('datasets/mammograms/mammographic_masses.data')\n",
    "mammograms = df.values\n",
    "\n",
    "mammogram_features = mammograms[:,:-1]\n",
    "mammogram_labels = mammograms[:,-1]\n",
    "\n",
    "m_train, m_test, m_train_labels, m_test_labels = train_test_split(mammogram_features, mammogram_labels, test_size=.2, random_state=23)\n",
    "\n",
    "####################################################################################################\n",
    "# wisconsin breast cancer vectorization\n",
    "# 669 samples\n",
    "# contains '?' values for undefined/missing\n",
    "# label 0 for benign, 1 for malignant\n",
    "\n",
    "df1 = pd.read_csv('datasets/wisconsin_breast_cancer/breast-cancer-wisconsin.data')\n",
    "wbc = df1.values\n",
    "\n",
    "wbc_features = wbc[:,1:-1]\n",
    "wbc_labels = wbc[:,-1]\n",
    "\n",
    "wbc_labels /= 2\n",
    "wbc_labels -= 1\n",
    "\n",
    "wbc_train, wbc_test, wbc_train_labels, wbc_test_labels = train_test_split(wbc_features, wbc_labels, test_size=.2, random_state=1)\n",
    "\n",
    "\n",
    "####################################################################################################\n",
    "# banknote authentication set\n",
    "# 1372 samples\n",
    "# label 0 for real, 1 for forgery\n",
    "\n",
    "df2 = pd.read_csv('datasets/banknote/data_banknote_authentication.txt')\n",
    "bn = df2.values\n",
    "\n",
    "bn_features = bn[:,:-1]\n",
    "bn_labels = bn[:,-1]\n",
    "bn_train, bn_test, bn_train_labels, bn_test_labels = train_test_split(bn_features, bn_labels, test_size=.2, random_state=10)\n",
    "\n",
    "####################################################################################################\n",
    "# covtype.binary\n",
    "# 581,012 samples\n",
    "\n",
    "cov_features, cov_labels = load_svmlight_file('datasets/covtype_binary/covtype.libsvm.binary')\n",
    "\n",
    "cov_labels = cov_labels - 1\n",
    "\n",
    "cov_train, cov_test, cov_train_labels, cov_test_labels = train_test_split(cov_features, cov_labels, test_size=.2, random_state=4)\n",
    "print cov_train_labels\n",
    "\n",
    "####################################################################################################\n",
    "# spam_sms vectorization\n",
    "# \n",
    "\n",
    "#df2 = pd.read_csv('datasets/spam_sms/SMSSpamCollection')\n",
    "\n",
    "#sms_raw = pd.read_csv(\"datasets/spam_sms/SMSSpamCollection\",)\n",
    "\n",
    "####################################################################################################\n",
    "# AUS rain prediction vectorization\n",
    "# ACHTUNG: might need more preprocessing because of text values in some\n",
    "\n",
    "#df1 = pd.read_csv(\"datasets/AUS_rain/weatherAUS.csv\")\n",
    "#df_features = df1.drop(['RISK_MM','RainTomorrow'], axis=1)\n",
    "#df_labels = df1[['RainTomorrow']]\n",
    "\n",
    "#aus_features = df_features.values\n",
    "#aus_labels = df_labels.values"
   ]
  },
  {
   "cell_type": "code",
   "execution_count": null,
   "metadata": {},
   "outputs": [],
   "source": []
  },
  {
   "cell_type": "code",
   "execution_count": null,
   "metadata": {},
   "outputs": [],
   "source": []
  }
 ],
 "metadata": {
  "kernelspec": {
   "display_name": "Python 2",
   "language": "python",
   "name": "python2"
  },
  "language_info": {
   "codemirror_mode": {
    "name": "ipython",
    "version": 2
   },
   "file_extension": ".py",
   "mimetype": "text/x-python",
   "name": "python",
   "nbconvert_exporter": "python",
   "pygments_lexer": "ipython2",
   "version": "2.7.15"
  }
 },
 "nbformat": 4,
 "nbformat_minor": 2
}
