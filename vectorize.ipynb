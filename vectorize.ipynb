{
 "cells": [
  {
   "cell_type": "code",
   "execution_count": 50,
   "metadata": {},
   "outputs": [],
   "source": [
    "import sys\n",
    "import numpy as np\n",
    "import pandas as pd\n",
    "import csv\n",
    "\n",
    "# Everything has been split roughly into 80:20 training:testing from the datasets\n",
    "####################################################################################################\n",
    "# mammogram vectorization \n",
    "# 961 samples\n",
    "# contains '?' values for undefined/missing\n",
    "with open('datasets/mammograms/mammographic_masses.data', 'r') as f:\n",
    "    mammograms = list(csv.reader(f, delimiter=','))\n",
    "mammograms = np.asarray(mammograms)\n",
    "\n",
    "mammogram_features = mammograms[:,:-1]\n",
    "mammogram_labels = mammograms[:,-1]\n",
    "\n",
    "m_train = mammogram_features[:769,]\n",
    "m_test = mammogram_features[770:,]\n",
    "\n",
    "m_train_labels = mammogram_labels[:769,]\n",
    "m_test_labels = mammogram_labels[770:,]\n",
    "\n",
    "####################################################################################################\n",
    "# wisconsin breast cancer vectorization\n",
    "# 669 samples\n",
    "# contains '?' values for undefined/missing\n",
    "\n",
    "with open('datasets/wisconsin_breast_cancer/breast-cancer-wisconsin.data', 'r') as f:\n",
    "    wbc = list(csv.reader(f, delimiter=','))\n",
    "    \n",
    "wbc = np.asarray(wbc)\n",
    "\n",
    "wbc_features = wbc[:,1:-1]\n",
    "wbc_labels = wbc[:,-1]\n",
    "\n",
    "wbc_train = wbc_features[:559,]\n",
    "wbc_test = wbc_features[560:,]\n",
    "\n",
    "wbc_train_labels = wbc_labels[:559,]\n",
    "wbc_test_labels = wbc_labels[560:,]\n",
    "\n",
    "####################################################################################################\n",
    "# spam_sms vectorization\n",
    "#f_s = open(\"datasets/spam_sms/SMSSpamCollection\",\"r\")\n",
    "\n",
    "#sms_raw = read.csv(\"datasets/spam_sms/SMSSpamCollection\")\n",
    "#print sms_raw\n",
    "\n",
    "####################################################################################################\n",
    "# AUS rain prediction vectorization\n",
    "# ACHTUNG: might need more preprocessing because of text values in some\n",
    "\n",
    "#df1 = pd.read_csv(\"datasets/AUS_rain/weatherAUS.csv\")\n",
    "#df_features = df1.drop(['RISK_MM','RainTomorrow'], axis=1)\n",
    "#df_labels = df1[['RainTomorrow']]\n",
    "\n",
    "#aus_features = df_features.values\n",
    "#aus_labels = df_labels.values"
   ]
  },
  {
   "cell_type": "code",
   "execution_count": null,
   "metadata": {},
   "outputs": [],
   "source": []
  },
  {
   "cell_type": "code",
   "execution_count": null,
   "metadata": {},
   "outputs": [],
   "source": []
  }
 ],
 "metadata": {
  "kernelspec": {
   "display_name": "Python 2",
   "language": "python",
   "name": "python2"
  },
  "language_info": {
   "codemirror_mode": {
    "name": "ipython",
    "version": 2
   },
   "file_extension": ".py",
   "mimetype": "text/x-python",
   "name": "python",
   "nbconvert_exporter": "python",
   "pygments_lexer": "ipython2",
   "version": "2.7.15"
  }
 },
 "nbformat": 4,
 "nbformat_minor": 2
}
