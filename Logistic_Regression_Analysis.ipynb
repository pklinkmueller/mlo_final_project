{
 "cells": [
  {
   "cell_type": "markdown",
   "metadata": {},
   "source": [
    "# Logistic Regression Analysis"
   ]
  },
  {
   "cell_type": "markdown",
   "metadata": {},
   "source": [
    "### Libraries\n",
    "\n",
    "We utilize both external libraries, like numpy and scikit-learn, as well as internally written libraries for the sake of modularity and simplicity of code within this notebook. The goal for modularizing the code base is so that running the different algorithms here can be clean and require as few parameters and extraneous code blocks as possible, enabling us to focus on analysis."
   ]
  },
  {
   "cell_type": "code",
   "execution_count": 10,
   "metadata": {},
   "outputs": [],
   "source": [
    "# External libraries:\n",
    "import numpy as np\n",
    "from sklearn.model_selection import train_test_split\n",
    "\n",
    "# Internal libraries:\n",
    "import datasets.data as data\n",
    "from descent_algorithms import *\n",
    "from learning_rates import *\n",
    "from models import *\n",
    "from util import *"
   ]
  },
  {
   "cell_type": "markdown",
   "metadata": {},
   "source": [
    "### Data\n",
    "We use three different datasets for our analysis of our algorithms, all of which provide a binary classification problem (??? 0 or 1 ???). (DESCRIPTION OF THREE DATASETS HERE AND HOW THEY ARE PREPPED IN THE data.py FILE)\n",
    "\n",
    "Here, we read in the data vectors and labels using the datasets/data utility functions, and then perform a train/test split of 80%/20% of the provided samples. The splitting is done using the train_test_split function from the sklearn.model_selection package, which randomizes the splits."
   ]
  },
  {
   "cell_type": "code",
   "execution_count": 11,
   "metadata": {},
   "outputs": [],
   "source": [
    "features, labels = data.load_wisconsin_breast_cancer()\n",
    "wbc_X_train, wbc_X_test, wbc_y_train, wbc_y_test = train_test_split(\n",
    "    features, labels, test_size=0.2)\n",
    "wbc_n = wbc_X_train.shape[0]\n",
    "\n",
    "M_features, M_labels = data.load_MNIST_13()\n",
    "mnist_X_train, mnist_X_test, mnist_y_train, mnist_y_test = train_test_split(\n",
    "    M_features, M_labels, test_size = 0.2)\n",
    "mnist_n = mnist_X_train.shape[0]\n",
    "\n",
    "cod_features, cod_labels = data.load_cod_rna()\n",
    "cod_X_train, cod_X_test, cod_y_train, cod_y_test = train_test_split(\n",
    "    cod_features, cod_labels, test_size = 0.2)\n",
    "cod_n = cod_X_train.shape[0]"
   ]
  },
  {
   "cell_type": "markdown",
   "metadata": {},
   "source": [
    "### Comparative Measures\n",
    "We use a relative convergence measure of 0.000001 (1/10000% change in loss between iterations), in order to determine whether or not an algorithm has converged. This allows us to directly compare the various descent methods and learning rates (?? and regularizations ??) for convergence rate.\n",
    "\n",
    "Additionally, we keep track of the final loss converged too, the resultant test accuracy, and the time per iteration in order to fully compare the relative performance of the all of the algorithms."
   ]
  },
  {
   "cell_type": "code",
   "execution_count": 12,
   "metadata": {},
   "outputs": [],
   "source": [
    "# relative convergence limit\n",
    "rel_conv = 0.000001"
   ]
  },
  {
   "cell_type": "markdown",
   "metadata": {},
   "source": [
    "### Fixed Learning Rate\n",
    "We begin our analysis with a look at the fixed learning rate convergence for our GD, SGD, AGD, and SVRG algorithms on our three datasets.\n",
    "\n",
    "The default learning rate for fixed is set to 0.01."
   ]
  },
  {
   "cell_type": "code",
   "execution_count": 13,
   "metadata": {},
   "outputs": [],
   "source": [
    "# initialize our learning rate object\n",
    "lr = FixedRate()"
   ]
  },
  {
   "cell_type": "markdown",
   "metadata": {},
   "source": [
    "#### Wisconsin Breast Cancer Data\n",
    "Then, we setup the run for all of our descent methods on the Wisconsin Breast Cancer dataset, beginning with the initialization of each of our descent method objects."
   ]
  },
  {
   "cell_type": "code",
   "execution_count": 14,
   "metadata": {},
   "outputs": [],
   "source": [
    "# initialize our descent methods\n",
    "gd = GradientDescent()\n",
    "sgd_1 = GradientDescent() # the GD algorithm is used for all SGD algorithms, \n",
    "                          # with the smaller batch size specified in the model\n",
    "sgd_10 = GradientDescent()\n",
    "sgd_100 = GradientDescent()\n",
    "agd = NesterovAcceleratedDescent()\n",
    "svrg = StochasticVarianceReducedGradientDescent()\n",
    "md = MirrorDescent()"
   ]
  },
  {
   "cell_type": "markdown",
   "metadata": {},
   "source": [
    "Next, we initialize all of our model objects (all logistic regression models in this case), with the appropriate parameters for each algorithm."
   ]
  },
  {
   "cell_type": "code",
   "execution_count": 15,
   "metadata": {},
   "outputs": [],
   "source": [
    "# LogisticRegression(DescentAlgorithm, LearningRate, max iterations, \n",
    "# batch size, relative convergence)\n",
    "gd_log = LogisticRegression(gd, lr, 5000, wbc_n, rel_conv)\n",
    "sgd_1_log = LogisticRegression(sgd_1, lr, 2000, 1, rel_conv)\n",
    "sgd_10_log = LogisticRegression(sgd_10, lr, 4000, 10, rel_conv)\n",
    "sgd_100_log = LogisticRegression(sgd_100, lr, 4000, 100, rel_conv)\n",
    "agd_log = LogisticRegression(agd, lr, 400, wbc_n, rel_conv)\n",
    "svrg_log = LogisticRegression(svrg, lr, 20, wbc_n, rel_conv)\n",
    "md_log = LogisticRegression(md, lr, 2000, wbc_n, rel_conv)"
   ]
  },
  {
   "cell_type": "markdown",
   "metadata": {},
   "source": [
    "Then, we run the fit for each model:"
   ]
  },
  {
   "cell_type": "code",
   "execution_count": 16,
   "metadata": {
    "scrolled": true
   },
   "outputs": [
    {
     "name": "stdout",
     "output_type": "stream",
     "text": [
      "Fitting gradient descent:\n",
      "Iter:        0 train loss: 374.647\n",
      "Iter:      500 train loss: 225.516\n",
      "Iter:     1000 train loss: 217.468\n",
      "Iter:     1500 train loss: 215.236\n",
      "Iter:     2000 train loss: 214.363\n",
      "Iter:     2500 train loss: 213.963\n",
      "Iter:     3000 train loss: 213.764\n",
      "Converged in 3209 iterations.\n",
      "\n",
      "Fitting stochastic gradient descent, batch size = 1:\n",
      "Iter:        0 train loss: 402.252\n",
      "Iter:      200 train loss: 270.077\n",
      "Iter:      400 train loss: 287.149\n",
      "Iter:      600 train loss: 268.861\n",
      "Iter:      800 train loss: 239.129\n",
      "Iter:     1000 train loss: 273.903\n",
      "Iter:     1200 train loss: 217.920\n",
      "Iter:     1400 train loss: 224.019\n",
      "Converged in 1487 iterations.\n",
      "\n",
      "Fitting stochastic gradient descent, batch size = 10:\n",
      "Iter:        0 train loss: 375.828\n",
      "Iter:      400 train loss: 230.196\n",
      "Iter:      800 train loss: 220.779\n",
      "Converged in 1111 iterations.\n",
      "\n",
      "Fitting stochastic gradient descent, batch size = 100:\n",
      "Iter:        0 train loss: 373.762\n",
      "Converged in 306 iterations.\n",
      "\n",
      "Fitting accelerated gradient descent:\n",
      "Iter:        0 train loss: 386.776\n",
      "Iter:       40 train loss: 235.814\n",
      "Iter:       80 train loss: 215.915\n",
      "Iter:      120 train loss: 214.076\n",
      "Iter:      160 train loss: 213.641\n",
      "Converged in 161 iterations.\n",
      "\n",
      "Fitting stochastic variance reduced gradient descent:\n",
      "Iter:        0 train loss: 228.993\n",
      "Iter:        2 train loss: 213.812\n",
      "Iter:        4 train loss: 213.564\n",
      "Iter:        6 train loss: 213.544\n",
      "Iter:        8 train loss: 213.543\n",
      "Converged in 9 iterations.\n",
      "\n",
      "Fitting mirror descent:\n",
      "Iter:        0 train loss: 366.728\n",
      "Iter:      200 train loss: 229.363\n",
      "Iter:      400 train loss: 219.200\n",
      "Iter:      600 train loss: 216.147\n",
      "Iter:      800 train loss: 214.889\n",
      "Iter:     1000 train loss: 214.282\n",
      "Iter:     1200 train loss: 213.963\n",
      "Iter:     1400 train loss: 213.786\n",
      "Iter:     1600 train loss: 213.685\n",
      "Iter:     1800 train loss: 213.627\n",
      "Converged in 1814 iterations.\n"
     ]
    }
   ],
   "source": [
    "print('Fitting gradient descent:')\n",
    "wbc_gd_loss = gd_log.fit(wbc_X_train, wbc_y_train)\n",
    "print('\\nFitting stochastic gradient descent, batch size = 1:')\n",
    "wbc_sgd_1_loss = sgd_1_log.fit(wbc_X_train, wbc_y_train)\n",
    "print('\\nFitting stochastic gradient descent, batch size = 10:')\n",
    "wbc_sgd_10_loss = sgd_10_log.fit(wbc_X_train, wbc_y_train)\n",
    "print('\\nFitting stochastic gradient descent, batch size = 100:')\n",
    "wbc_sgd_100_loss = sgd_100_log.fit(wbc_X_train, wbc_y_train)\n",
    "print('\\nFitting accelerated gradient descent:')\n",
    "wbc_agd_loss = agd_log.fit(wbc_X_train, wbc_y_train)\n",
    "print('\\nFitting stochastic variance reduced gradient descent:')\n",
    "wbc_svrg_loss = svrg_log.fit(wbc_X_train, wbc_y_train)\n",
    "print('\\nFitting mirror descent:')\n",
    "wbc_md_loss = md_log.fit(wbc_X_train, wbc_y_train)"
   ]
  },
  {
   "cell_type": "code",
   "execution_count": 17,
   "metadata": {},
   "outputs": [
    {
     "name": "stdout",
     "output_type": "stream",
     "text": [
      "GD Accuracy: 86.43%\n",
      "SGD 1 Accuracy: 86.43%\n",
      "SGD 10 Accuracy: 87.14%\n",
      "SGD 100 Accuracy: 84.29%\n",
      "AGD Accuracy: 86.43%\n",
      "SVRG Accuracy: 86.43%\n",
      "MD Accuracy: 86.43%\n"
     ]
    }
   ],
   "source": [
    "acc = check_accuracy(gd_log, wbc_X_test, wbc_y_test)\n",
    "print(\"GD Accuracy: {0:.2f}%\".format(acc * 100))\n",
    "acc = check_accuracy(sgd_1_log, wbc_X_test, wbc_y_test)\n",
    "print(\"SGD 1 Accuracy: {0:.2f}%\".format(acc * 100))\n",
    "acc = check_accuracy(sgd_10_log, wbc_X_test, wbc_y_test)\n",
    "print(\"SGD 10 Accuracy: {0:.2f}%\".format(acc * 100))\n",
    "acc = check_accuracy(sgd_100_log, wbc_X_test, wbc_y_test)\n",
    "print(\"SGD 100 Accuracy: {0:.2f}%\".format(acc * 100))\n",
    "acc = check_accuracy(agd_log, wbc_X_test, wbc_y_test)\n",
    "print(\"AGD Accuracy: {0:.2f}%\".format(acc * 100))\n",
    "acc = check_accuracy(svrg_log, wbc_X_test, wbc_y_test)\n",
    "print(\"SVRG Accuracy: {0:.2f}%\".format(acc * 100))\n",
    "acc = check_accuracy(md_log, wbc_X_test, wbc_y_test)\n",
    "print(\"MD Accuracy: {0:.2f}%\".format(acc * 100))"
   ]
  },
  {
   "cell_type": "code",
   "execution_count": 18,
   "metadata": {
    "scrolled": false
   },
   "outputs": [
    {
     "data": {
      "image/png": "[encoded data removed]",
      "text/plain": [
       "<Figure size 1008x720 with 1 Axes>"
      ]
     },
     "metadata": {
      "needs_background": "light"
     },
     "output_type": "display_data"
    }
   ],
   "source": [
    "plot_fixed_losses(wbc_gd_loss, wbc_sgd_1_loss, wbc_sgd_10_loss, wbc_sgd_100_loss, wbc_agd_loss, wbc_svrg_loss, wbc_md_loss)"
   ]
  },
  {
   "cell_type": "markdown",
   "metadata": {},
   "source": [
    "#### MNIST Data\n",
    "Then, we setup the run for all of our descent methods on the MNIST dataset, beginning with the initialization of each of our descent method objects. We combine the cells here and reduce the footprint, as the usage is the same as above."
   ]
  },
  {
   "cell_type": "code",
   "execution_count": null,
   "metadata": {},
   "outputs": [],
   "source": [
    "lr = FixedRate(0.000001)\n",
    "# initialize our descent methods\n",
    "gd = GradientDescent()\n",
    "sgd_1 = GradientDescent() \n",
    "sgd_10 = GradientDescent()\n",
    "sgd_100 = GradientDescent()\n",
    "agd = NesterovAcceleratedDescent()\n",
    "svrg = StochasticVarianceReducedGradientDescent()\n",
    "md = MirrorDescent()\n",
    "# initialize the logisitic regression objects\n",
    "gd_log = LogisticRegression(gd, lr, 5000, mnist_n, rel_conv)\n",
    "sgd_1_log = LogisticRegression(sgd_1, lr, 5000, 1, rel_conv)\n",
    "sgd_10_log = LogisticRegression(sgd_10, lr, 5000, 10, rel_conv)\n",
    "sgd_100_log = LogisticRegression(sgd_100, lr, 5000, 100, rel_conv)\n",
    "agd_log = LogisticRegression(agd, lr, 2000, mnist_n, rel_conv)\n",
    "svrg_log = LogisticRegression(svrg, lr, 40, mnist_n, rel_conv)\n",
    "md_log = LogisticRegression(md, lr, 3000, mnist_n, rel_conv)\n",
    "# and run the fit for each of these models, this time on the MNIST data set:\n",
    "print('Fitting gradient descent:')\n",
    "mnist_gd_loss = gd_log.fit(mnist_X_train, mnist_y_train)\n",
    "print('\\nFitting stochastic gradient descent, batch size = 1:')\n",
    "mnist_sgd_1_loss = sgd_1_log.fit(mnist_X_train, mnist_y_train)\n",
    "print('\\nFitting stochastic gradient descent, batch size = 10:')\n",
    "mnist_sgd_10_loss = sgd_10_log.fit(mnist_X_train, mnist_y_train)\n",
    "print('\\nFitting stochastic gradient descent, batch size = 100:')\n",
    "mnist_sgd_100_loss = sgd_100_log.fit(mnist_X_train, mnist_y_train)\n",
    "print('\\nFitting accelerated gradient descent:')\n",
    "mnist_agd_loss = agd_log.fit(mnist_X_train, mnist_y_train)\n",
    "print('\\nFitting stochastic variance reduced gradient descent:')\n",
    "mnist_svrg_loss = svrg_log.fit(mnist_X_train, mnist_y_train)\n",
    "print('\\nFitting mirror descent:')\n",
    "mnist_md_loss = md_log.fit(mnist_X_train, mnist_y_train)\n",
    "# displaying accuracies\n",
    "acc = check_accuracy(gd_log, mnist_X_test, mnist_y_test)\n",
    "print(\"\\n\\nGD Accuracy: {0:.2f}%\".format(acc * 100))\n",
    "acc = check_accuracy(sgd_1_log, mnist_X_test, mnist_y_test)\n",
    "print(\"SGD 1 Accuracy: {0:.2f}%\".format(acc * 100))\n",
    "acc = check_accuracy(sgd_10_log, mnist_X_test, mnist_y_test)\n",
    "print(\"SGD 10 Accuracy: {0:.2f}%\".format(acc * 100))\n",
    "acc = check_accuracy(sgd_100_log, mnist_X_test, mnist_y_test)\n",
    "print(\"SGD 100 Accuracy: {0:.2f}%\".format(acc * 100))\n",
    "acc = check_accuracy(agd_log, mnist_X_test, mnist_y_test)\n",
    "print(\"AGD Accuracy: {0:.2f}%\".format(acc * 100))\n",
    "acc = check_accuracy(svrg_log, mnist_X_test, mnist_y_test)\n",
    "print(\"SVRG Accuracy: {0:.2f}%\".format(acc * 100))\n",
    "acc = check_accuracy(md_log, mnist_X_test, mnist_y_test)\n",
    "print(\"MD Accuracy: {0:.2f}%\".format(acc * 100))\n",
    "# plot losses\n",
    "plot_losses(mnist_gd_loss, mnist_sgd_1_loss, mnist_sgd_10_loss, \n",
    "            mnist_sgd_100_loss, mnist_agd_loss, mnist_svrg_loss, \n",
    "            mnist_md_loss)"
   ]
  },
  {
   "cell_type": "markdown",
   "metadata": {},
   "source": [
    "#### COD-RNA Data\n",
    "Lastly, we setup the run for all of our descent methods on the COD-RNA dataset, again using a reduced-frill cell to run our fit for each method's model."
   ]
  },
  {
   "cell_type": "code",
   "execution_count": null,
   "metadata": {},
   "outputs": [],
   "source": [
    "lr = FixedRate(0.001)\n",
    "# initialize our descent methods\n",
    "gd = GradientDescent()\n",
    "sgd_1 = GradientDescent()\n",
    "sgd_10 = GradientDescent()\n",
    "sgd_100 = GradientDescent()\n",
    "agd = NesterovAcceleratedDescent()\n",
    "svrg = StochasticVarianceReducedGradientDescent()\n",
    "md = MirrorDescent()\n",
    "# initialize the logisitic regression objects\n",
    "gd_log = LogisticRegression(gd, lr, 5000, cod_n, rel_conv)\n",
    "sgd_1_log = LogisticRegression(sgd_1, lr, 2000, 1, rel_conv)\n",
    "sgd_10_log = LogisticRegression(sgd_10, lr, 2000, 10, rel_conv)\n",
    "sgd_100_log = LogisticRegression(sgd_100, lr, 2000, 100, rel_conv)\n",
    "agd_log = LogisticRegression(agd, lr, 200, cod_n, rel_conv)\n",
    "svrg_log = LogisticRegression(svrg, lr, 20, cod_n, rel_conv)\n",
    "md_log = LogisticRegression(md, lr, 2000, cod_n, rel_conv)\n",
    "# and run the fit for each of these models, this time on the MNIST data set:\n",
    "print('Fitting gradient descent:')\n",
    "cod_gd_loss = gd_log.fit(cod_X_train, cod_y_train)\n",
    "print('\\nFitting stochastic gradient descent, batch size = 1:')\n",
    "cod_sgd_1_loss = sgd_1_log.fit(cod_X_train, wbc_y_train)\n",
    "print('\\nFitting stochastic gradient descent, batch size = 10:')\n",
    "cod_sgd_10_loss = sgd_10_log.fit(cod_X_train, wbc_y_train)\n",
    "print('\\nFitting stochastic gradient descent, batch size = 100:')\n",
    "cod_sgd_100_loss = sgd_100_log.fit(cod_X_train, wbc_y_train)\n",
    "print('\\nFitting accelerated gradient descent:')\n",
    "cod_agd_loss = agd_log.fit(cod_X_train, wbc_y_train)\n",
    "print('\\nFitting stochastic variance reduced gradient descent:')\n",
    "cod_svrg_loss = svrg_log.fit(cod_X_train, wbc_y_train)\n",
    "print('\\nFitting stochastic variance reduced gradient descent:')\n",
    "cod_svrg_loss = svrg_log.fit(cod_X_train, wbc_y_train)\n",
    "# displaying accuracies\n",
    "acc = check_accuracy(gd_log, cod_X_test, cod_y_test)\n",
    "print(\"\\n\\nGD Accuracy: {0:.2f}%\".format(acc * 100))\n",
    "acc = check_accuracy(sgd_1_log, cod_X_test, cod_y_test)\n",
    "print(\"SGD 1 Accuracy: {0:.2f}%\".format(acc * 100))\n",
    "acc = check_accuracy(sgd_10_log, cod_X_test, cod_y_test)\n",
    "print(\"SGD 10 Accuracy: {0:.2f}%\".format(acc * 100))\n",
    "acc = check_accuracy(sgd_100_log, cod_X_test, cod_y_test)\n",
    "print(\"SGD 100 Accuracy: {0:.2f}%\".format(acc * 100))\n",
    "acc = check_accuracy(agd_log, cod_X_test, cod_y_test)\n",
    "print(\"AGD Accuracy: {0:.2f}%\".format(acc * 100))\n",
    "acc = check_accuracy(svrg_log, cod_X_test, cod_y_test)\n",
    "print(\"SVRG Accuracy: {0:.2f}%\".format(acc * 100))\n",
    "acc = check_accuracy(md_log, cod_X_test, cod_y_test)\n",
    "print(\"MD Accuracy: {0:.2f}%\".format(acc * 100))\n",
    "# plot losses\n",
    "plot_losses(cod_gd_loss, cod_sgd_1_loss, cod_sgd_10_loss, \n",
    "            cod_sgd_100_loss, cod_agd_loss, cod_svrg_loss, \n",
    "            cod_md_loss)"
   ]
  },
  {
   "cell_type": "markdown",
   "metadata": {},
   "source": [
    "### Polynomial Decaying Learning Rate\n",
    "We begin our analysis with a look at the polynomial decaying learning rate convergence for our GD, SGD, AGD, and SVRG algorithms on our three datasets.\n",
    "\n",
    "The default learning rate for fixed is set to 0.01, and a gamma value of 0.0001."
   ]
  },
  {
   "cell_type": "markdown",
   "metadata": {},
   "source": [
    "#### Wisconsin Breast Cancer Data\n",
    "Then, we setup the run for all of our descent methods on the Wisconsin Breast Cancer dataset, beginning with the initialization of each of our descent method objects."
   ]
  },
  {
   "cell_type": "code",
   "execution_count": null,
   "metadata": {},
   "outputs": [],
   "source": [
    "# initialize our learning rate object\n",
    "lr_gd = PolyDecayRate(0.1, 0.0001)\n",
    "lr_sgd = PolyDecayRate(0.01, 0.00001)\n",
    "lr_md = PolyDecayRate(0.1, 0.00001)\n",
    "# initialize our descent methods\n",
    "gd = GradientDescent()\n",
    "sgd_1 = GradientDescent()\n",
    "md = MirrorDescent()\n",
    "# initialize logistic regression models\n",
    "gd_log = LogisticRegression(gd, lr_gd, 2000, wbc_n, rel_conv)\n",
    "sgd_1_log = LogisticRegression(sgd_1, lr_sgd, 2000, 1, rel_conv)\n",
    "md_log = LogisticRegression(md, lr_md, 2000, wbc_n, rel_conv)\n",
    "# fit the models...\n",
    "print('Fitting gradient descent:')\n",
    "wbc_gd_loss = gd_log.fit(wbc_X_train, wbc_y_train)\n",
    "print('\\nFitting stochastic gradient descent, batch size = 1:')\n",
    "wbc_sgd_1_loss = sgd_1_log.fit(wbc_X_train, wbc_y_train)\n",
    "print('\\nFitting mirror descent:')\n",
    "wbc_md_loss = md_log.fit(wbc_X_train, wbc_y_train)\n",
    "# print the test accuracies for each model\n",
    "acc = check_accuracy(gd_log, wbc_X_test, wbc_y_test)\n",
    "print(\"\\n\\nGD Accuracy: {0:.2f}%\".format(acc * 100))\n",
    "acc = check_accuracy(sgd_1_log, wbc_X_test, wbc_y_test)\n",
    "print(\"SGD 1 Accuracy: {0:.2f}%\".format(acc * 100))\n",
    "acc = check_accuracy(md_log, wbc_X_test, wbc_y_test)\n",
    "print(\"MD Accuracy: {0:.2f}%\".format(acc * 100))\n",
    "# plot the loss convergences for each model\n",
    "plot_dynamic_losses(wbc_gd_loss, wbc_sgd_1_loss, wbc_md_loss)"
   ]
  },
  {
   "cell_type": "raw",
   "metadata": {},
   "source": [
    "#### MNIST Data\n",
    "Then, we setup the run for all of our descent methods on the MNIST dataset, beginning with the initialization of each of our descent method objects. We combine the cells here and reduce the footprint, as the usage is the same as above."
   ]
  },
  {
   "cell_type": "code",
   "execution_count": null,
   "metadata": {},
   "outputs": [],
   "source": [
    "# initialize our learning rate object\n",
    "lr_gd = PolyDecayRate(0.01, 0.0001)\n",
    "lr_sgd = PolyDecayRate(0.01, 0.00001)\n",
    "lr_md = PolyDecayRate(0.1, 0.00001)\n",
    "# initialize our descent methods\n",
    "gd = GradientDescent()\n",
    "sgd_1 = GradientDescent()\n",
    "md = MirrorDescent()\n",
    "# initialize logistic regression models\n",
    "gd_log = LogisticRegression(gd, lr_gd, 2000, mnist_n, rel_conv)\n",
    "sgd_1_log = LogisticRegression(sgd_1, lr_sgd, 2000, 1, rel_conv)\n",
    "md_log = LogisticRegression(md, lr_md, 2000, mnist_n, rel_conv)\n",
    "# fit the models...\n",
    "print('Fitting gradient descent:')\n",
    "mnist_gd_loss = gd_log.fit(mnist_X_train, mnist_y_train)\n",
    "print('\\nFitting stochastic gradient descent, batch size = 1:')\n",
    "mnist_sgd_1_loss = sgd_1_log.fit(mnist_X_train, mnist_y_train)\n",
    "print('\\nFitting mirror descent:')\n",
    "mnist_md_loss = md_log.fit(mnist_X_train, mnist_y_train)\n",
    "# print the test accuracies for each model\n",
    "acc = check_accuracy(gd_log, mnist_X_test, mnist_y_test)\n",
    "print(\"\\n\\nGD Accuracy: {0:.2f}%\".format(acc * 100))\n",
    "acc = check_accuracy(sgd_1_log, mnist_X_test, mnist_y_test)\n",
    "print(\"SGD 1 Accuracy: {0:.2f}%\".format(acc * 100))\n",
    "acc = check_accuracy(md_log, mnist_X_test, mnist_y_test)\n",
    "print(\"MD Accuracy: {0:.2f}%\".format(acc * 100))\n",
    "# plot the loss convergences for each model\n",
    "plot_dynamic_losses(mnist_gd_loss, mnist_sgd_1_loss, mnist_md_loss)"
   ]
  },
  {
   "cell_type": "markdown",
   "metadata": {},
   "source": [
    "#### COD-RNA Data\n",
    "Lastly, we setup the run for all of our descent methods on the COD-RNA dataset, again using a reduced-frill cell to run our fit for each method's model."
   ]
  },
  {
   "cell_type": "code",
   "execution_count": null,
   "metadata": {},
   "outputs": [],
   "source": [
    "lr = FixedRate(0.001)\n",
    "# initialize our descent methods\n",
    "gd = GradientDescent()\n",
    "sgd_1 = GradientDescent()\n",
    "sgd_10 = GradientDescent()\n",
    "sgd_100 = GradientDescent()\n",
    "agd = NesterovAcceleratedDescent()\n",
    "svrg = StochasticVarianceReducedGradientDescent()\n",
    "md = MirrorDescent()\n",
    "# initialize the logisitic regression objects\n",
    "gd_log = LogisticRegression(gd, lr, 5000, cod_n, rel_conv)\n",
    "sgd_1_log = LogisticRegression(sgd_1, lr, 2000, 1, rel_conv)\n",
    "sgd_10_log = LogisticRegression(sgd_10, lr, 2000, 10, rel_conv)\n",
    "sgd_100_log = LogisticRegression(sgd_100, lr, 2000, 100, rel_conv)\n",
    "agd_log = LogisticRegression(agd, lr, 200, cod_n, rel_conv)\n",
    "svrg_log = LogisticRegression(svrg, lr, 20, cod_n, rel_conv)\n",
    "md_log = LogisticRegression(md, lr, 2000, cod_n, rel_conv)\n",
    "# and run the fit for each of these models, this time on the MNIST data set:\n",
    "print('Fitting gradient descent:')\n",
    "cod_gd_loss = gd_log.fit(cod_X_train, cod_y_train)\n",
    "print('\\nFitting stochastic gradient descent, batch size = 1:')\n",
    "cod_sgd_1_loss = sgd_1_log.fit(cod_X_train, wbc_y_train)\n",
    "print('\\nFitting stochastic gradient descent, batch size = 10:')\n",
    "cod_sgd_10_loss = sgd_10_log.fit(cod_X_train, wbc_y_train)\n",
    "print('\\nFitting stochastic gradient descent, batch size = 100:')\n",
    "cod_sgd_100_loss = sgd_100_log.fit(cod_X_train, wbc_y_train)\n",
    "print('\\nFitting accelerated gradient descent:')\n",
    "cod_agd_loss = agd_log.fit(cod_X_train, wbc_y_train)\n",
    "print('\\nFitting stochastic variance reduced gradient descent:')\n",
    "cod_svrg_loss = svrg_log.fit(cod_X_train, wbc_y_train)\n",
    "print('\\nFitting stochastic variance reduced gradient descent:')\n",
    "cod_svrg_loss = svrg_log.fit(cod_X_train, wbc_y_train)\n",
    "# displaying accuracies\n",
    "acc = check_accuracy(gd_log, cod_X_test, cod_y_test)\n",
    "print(\"\\n\\nGD Accuracy: {0:.2f}%\".format(acc * 100))\n",
    "acc = check_accuracy(sgd_1_log, cod_X_test, cod_y_test)\n",
    "print(\"SGD 1 Accuracy: {0:.2f}%\".format(acc * 100))\n",
    "acc = check_accuracy(sgd_10_log, cod_X_test, cod_y_test)\n",
    "print(\"SGD 10 Accuracy: {0:.2f}%\".format(acc * 100))\n",
    "acc = check_accuracy(sgd_100_log, cod_X_test, cod_y_test)\n",
    "print(\"SGD 100 Accuracy: {0:.2f}%\".format(acc * 100))\n",
    "acc = check_accuracy(agd_log, cod_X_test, cod_y_test)\n",
    "print(\"AGD Accuracy: {0:.2f}%\".format(acc * 100))\n",
    "acc = check_accuracy(svrg_log, cod_X_test, cod_y_test)\n",
    "print(\"SVRG Accuracy: {0:.2f}%\".format(acc * 100))\n",
    "acc = check_accuracy(md_log, cod_X_test, cod_y_test)\n",
    "print(\"MD Accuracy: {0:.2f}%\".format(acc * 100))\n",
    "# plot losses\n",
    "plot_losses(cod_gd_loss, cod_sgd_1_loss, cod_sgd_10_loss, \n",
    "            cod_sgd_100_loss, cod_agd_loss, cod_svrg_loss, \n",
    "            cod_md_loss)"
   ]
  },
  {
   "cell_type": "code",
   "execution_count": null,
   "metadata": {},
   "outputs": [],
   "source": []
  },
  {
   "cell_type": "markdown",
   "metadata": {},
   "source": [
    "### Exponential Decaying Learning Rate\n",
    "Lastly, we analyze an exponentially decaying learning rate for convergence for our GD, SGD, AGD, and SVRG algorithms on our three datasets.\n",
    "\n",
    "The default learning rate for fixed is set to 0.01, and a gamma value of 0.0001."
   ]
  },
  {
   "cell_type": "markdown",
   "metadata": {},
   "source": [
    "#### Wisconsin Breast Cancer Data\n",
    "Then, we setup the run for all of our descent methods on the Wisconsin Breast Cancer dataset, beginning with the initialization of each of our descent method objects."
   ]
  },
  {
   "cell_type": "code",
   "execution_count": null,
   "metadata": {},
   "outputs": [],
   "source": [
    "# initialize our learning rate object\n",
    "lr_gd = ExpDecayRate(0.1, 0.001)\n",
    "lr_sgd = ExpDecayRate(0.01, 0.001)\n",
    "lr_md = ExpDecayRate(0.1, 0.001)\n",
    "# initialize our descent methods\n",
    "gd = GradientDescent()\n",
    "sgd_1 = GradientDescent()\n",
    "md = MirrorDescent()\n",
    "# initialize logistic regression models\n",
    "gd_log = LogisticRegression(gd, lr_gd, 2000, wbc_n, rel_conv)\n",
    "sgd_1_log = LogisticRegression(sgd_1, lr_sgd, 2000, 1, rel_conv)\n",
    "md_log = LogisticRegression(md, lr_md, 2000, wbc_n, rel_conv)\n",
    "# fit the models...\n",
    "print('Fitting gradient descent:')\n",
    "wbc_gd_loss = gd_log.fit(wbc_X_train, wbc_y_train)\n",
    "print('\\nFitting stochastic gradient descent, batch size = 1:')\n",
    "wbc_sgd_1_loss = sgd_1_log.fit(wbc_X_train, wbc_y_train)\n",
    "print('\\nFitting mirror descent:')\n",
    "wbc_md_loss = md_log.fit(wbc_X_train, wbc_y_train)\n",
    "# print the test accuracies for each model\n",
    "acc = check_accuracy(gd_log, wbc_X_test, wbc_y_test)\n",
    "print(\"\\n\\nGD Accuracy: {0:.2f}%\".format(acc * 100))\n",
    "acc = check_accuracy(sgd_1_log, wbc_X_test, wbc_y_test)\n",
    "print(\"SGD 1 Accuracy: {0:.2f}%\".format(acc * 100))\n",
    "acc = check_accuracy(md_log, wbc_X_test, wbc_y_test)\n",
    "print(\"MD Accuracy: {0:.2f}%\".format(acc * 100))\n",
    "# plot the loss convergences for each model\n",
    "plot_dynamic_losses(wbc_gd_loss, wbc_sgd_1_loss, wbc_md_loss)"
   ]
  },
  {
   "cell_type": "markdown",
   "metadata": {},
   "source": [
    "Run notes:\n",
    "\n",
    "FIRST:\n",
    "lr:\n",
    "    - fixed: GD(0.01), SGD(0.01) - batched at 1,10,100 , SVRG(0.01), Nest(0.01)\n",
    "    - polydecay: GD(0.01, 0.0001), SGD(0.01, 0.00001) - batched, SVRG(N/A), Nest(N/A)\n",
    "    - expdecay: GD(0.1,0.001), SGD(0.1,.001) - batched, SVRG(N/A), Nest(N/A)"
   ]
  }
 ],
 "metadata": {
  "kernelspec": {
   "display_name": "Python 3",
   "language": "python",
   "name": "python3"
  },
  "language_info": {
   "codemirror_mode": {
    "name": "ipython",
    "version": 3
   },
   "file_extension": ".py",
   "mimetype": "text/x-python",
   "name": "python",
   "nbconvert_exporter": "python",
   "pygments_lexer": "ipython3",
   "version": "3.6.6"
  }
 },
 "nbformat": 4,
 "nbformat_minor": 2
}
