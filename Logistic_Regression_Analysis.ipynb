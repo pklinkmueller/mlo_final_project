{
 "cells": [
  {
   "cell_type": "markdown",
   "metadata": {},
   "source": [
    "# Logistic Regression Analysis"
   ]
  },
  {
   "cell_type": "markdown",
   "metadata": {},
   "source": [
    "### Libraries\n",
    "\n",
    "We utilize both external libraries, like numpy and scikit-learn, as well as internally written libraries for the sake of modularity and simplicity of code within this notebook. The goal for modularizing the code base is so that running the different algorithms here can be clean and require as few parameters and extraneous code blocks as possible, enabling us to focus on analysis."
   ]
  },
  {
   "cell_type": "code",
   "execution_count": 1,
   "metadata": {},
   "outputs": [
    {
     "name": "stderr",
     "output_type": "stream",
     "text": [
      "Using TensorFlow backend.\n"
     ]
    }
   ],
   "source": [
    "# External libraries:\n",
    "import numpy as np\n",
    "from sklearn.model_selection import train_test_split\n",
    "\n",
    "# Internal libraries:\n",
    "import datasets.data as data\n",
    "from descent_algorithms import *\n",
    "from learning_rates import *\n",
    "from models import *\n",
    "from util import *"
   ]
  },
  {
   "cell_type": "markdown",
   "metadata": {},
   "source": [
    "### Data\n",
    "We use three different datasets for our analysis of our algorithms, all of which provide a binary classification problem (??? 0 or 1 ???). (DESCRIPTION OF THREE DATASETS HERE AND HOW THEY ARE PREPPED IN THE data.py FILE)\n",
    "\n",
    "Here, we read in the data vectors and labels using the datasets/data utility functions, and then perform a train/test split of 80%/20% of the provided samples. The splitting is done using the train_test_split function from the sklearn.model_selection package, which randomizes the splits."
   ]
  },
  {
   "cell_type": "code",
   "execution_count": 22,
   "metadata": {},
   "outputs": [],
   "source": [
    "features, labels = data.load_wisconsin_breast_cancer()\n",
    "wbc_X_train, wbc_X_test, wbc_y_train, wbc_y_test = train_test_split(\n",
    "    features, labels, test_size=0.2)\n",
    "wbc_n = wbc_X_train.shape[0]\n",
    "\n",
    "M_features, M_labels = data.load_MNIST_13()\n",
    "mnist_X_train, mnist_X_test, mnist_y_train, mnist_y_test = train_test_split(\n",
    "    M_features, M_labels, test_size = 0.2)\n",
    "mnist_n = mnist_X_train.shape[0]\n",
    "\n",
    "cod_features, cod_labels = data.load_cod_rna()\n",
    "cod_X_train, cod_X_test, cod_y_train, cod_y_test = train_test_split(\n",
    "    cod_features, cod_labels, test_size = 0.2)\n",
    "cod_n = cod_X_train.shape[0]"
   ]
  },
  {
   "cell_type": "markdown",
   "metadata": {},
   "source": [
    "### Comparative Measures\n",
    "We use a relative convergence measure of 0.000001 (1/10000% change in loss between iterations), in order to determine whether or not an algorithm has converged. This allows us to directly compare the various descent methods and learning rates (?? and regularizations ??) for convergence rate.\n",
    "\n",
    "Additionally, we keep track of the final loss converged too, the resultant test accuracy, and the time per iteration in order to fully compare the relative performance of the all of the algorithms."
   ]
  },
  {
   "cell_type": "code",
   "execution_count": 32,
   "metadata": {},
   "outputs": [],
   "source": [
    "# relative convergence limit\n",
    "rel_conv = 0.000001"
   ]
  },
  {
   "cell_type": "markdown",
   "metadata": {},
   "source": [
    "### Fixed Step Size\n",
    "We begin our analysis with a look at the fixed learning rate convergence for our GD, SGD, AGD, and SVRG algorithms on our three datasets.\n",
    "\n",
    "The default learning rate for fixed is set to 0.01."
   ]
  },
  {
   "cell_type": "code",
   "execution_count": 37,
   "metadata": {},
   "outputs": [],
   "source": [
    "# initialize our learning rate object\n",
    "lr = FixedRate()"
   ]
  },
  {
   "cell_type": "markdown",
   "metadata": {},
   "source": [
    "#### Wisconsin Breast Cancer Data\n",
    "Then, we setup the run for all of our descent methods on the Wisconsin Breast Cancer dataset, beginning with the initialization of each of our descent method objects."
   ]
  },
  {
   "cell_type": "code",
   "execution_count": 50,
   "metadata": {},
   "outputs": [],
   "source": [
    "# initialize our descent methods\n",
    "gd = GradientDescent()\n",
    "sgd_1 = GradientDescent() # the GD algorithm is used for all SGD algorithms, \n",
    "                          # with the smaller batch size specified in the model\n",
    "sgd_10 = GradientDescent()\n",
    "sgd_100 = GradientDescent()\n",
    "agd = NesterovAcceleratedDescent()\n",
    "svrg = StochasticVarianceReducedGradientDescent()"
   ]
  },
  {
   "cell_type": "markdown",
   "metadata": {},
   "source": [
    "Next, we initialize all of our model objects (all logistic regression models in this case), with the appropriate parameters for each algorithm."
   ]
  },
  {
   "cell_type": "code",
   "execution_count": 51,
   "metadata": {},
   "outputs": [],
   "source": [
    "# LogisticRegression(DescentAlgorithm, LearningRate, max iterations, \n",
    "# batch size, relative convergence)\n",
    "gd_log = LogisticRegression(gd, lr, 5000, wbc_n, rel_conv)\n",
    "sgd_1_log = LogisticRegression(sgd_1, lr, 2000, 1, rel_conv)\n",
    "sgd_10_log = LogisticRegression(sgd_10, lr, 4000, 10, rel_conv)\n",
    "sgd_100_log = LogisticRegression(sgd_100, lr, 4000, 100, rel_conv)\n",
    "agd_log = LogisticRegression(agd, lr, 400, wbc_n, rel_conv)\n",
    "svrg_log = LogisticRegression(svrg, lr, 20, wbc_n, rel_conv)"
   ]
  },
  {
   "cell_type": "markdown",
   "metadata": {},
   "source": [
    "Then, we run the fit for each model:"
   ]
  },
  {
   "cell_type": "code",
   "execution_count": 52,
   "metadata": {
    "scrolled": true
   },
   "outputs": [
    {
     "name": "stdout",
     "output_type": "stream",
     "text": [
      "Fitting gradient descent:\n",
      "Iter:        0 train loss: 625.947\n",
      "Iter:      500 train loss: 219.125\n",
      "Iter:     1000 train loss: 209.301\n",
      "Iter:     1500 train loss: 206.481\n",
      "Iter:     2000 train loss: 205.385\n",
      "Iter:     2500 train loss: 204.891\n",
      "Iter:     3000 train loss: 204.650\n",
      "Converged at 3388 iterations.\n",
      "\n",
      "Fitting stochastic gradient descent, batch size = 1:\n",
      "Iter:        0 train loss: 610.533\n",
      "Iter:      200 train loss: 247.323\n",
      "Iter:      400 train loss: 223.026\n",
      "Converged at 471 iterations.\n",
      "\n",
      "Fitting stochastic gradient descent, batch size = 10:\n",
      "Iter:        0 train loss: 634.784\n",
      "Iter:      400 train loss: 223.445\n",
      "Converged at 528 iterations.\n",
      "\n",
      "Fitting stochastic gradient descent, batch size = 100:\n",
      "Iter:        0 train loss: 631.023\n",
      "Iter:      400 train loss: 224.108\n",
      "Iter:      800 train loss: 211.974\n",
      "Converged at 1095 iterations.\n",
      "\n",
      "Fitting accelerated gradient descent:\n",
      "Iter:        0 train loss: 386.776\n",
      "Iter:       40 train loss: 231.353\n",
      "Iter:       80 train loss: 207.053\n",
      "Iter:      120 train loss: 204.810\n",
      "Iter:      160 train loss: 204.593\n",
      "Iter:      200 train loss: 204.541\n",
      "Iter:      240 train loss: 204.471\n",
      "Iter:      280 train loss: 204.387\n",
      "Converged at 280 iterations.\n",
      "\n",
      "Fitting stochastic variance reduced gradient descent:\n",
      "Iter:        0 train loss: 235.322\n",
      "Iter:        2 train loss: 205.100\n",
      "Iter:        4 train loss: 206.403\n",
      "Iter:        6 train loss: 204.428\n",
      "Iter:        8 train loss: 204.382\n",
      "Iter:       10 train loss: 204.380\n",
      "Converged at 10 iterations.\n"
     ]
    }
   ],
   "source": [
    "print('Fitting gradient descent:')\n",
    "wbc_gd_loss = gd_log.fit(wbc_X_train, wbc_y_train, non_zero_init = True)\n",
    "print('\\nFitting stochastic gradient descent, batch size = 1:')\n",
    "wbc_sgd_1_loss = sgd_1_log.fit(wbc_X_train, wbc_y_train, non_zero_init = True)\n",
    "print('\\nFitting stochastic gradient descent, batch size = 10:')\n",
    "wbc_sgd_10_loss = sgd_10_log.fit(wbc_X_train, wbc_y_train, non_zero_init = True)\n",
    "print('\\nFitting stochastic gradient descent, batch size = 100:')\n",
    "wbc_sgd_100_loss = sgd_100_log.fit(wbc_X_train, wbc_y_train, non_zero_init = True)\n",
    "print('\\nFitting accelerated gradient descent:')\n",
    "wbc_agd_loss = agd_log.fit(wbc_X_train, wbc_y_train, non_zero_init = True)\n",
    "print('\\nFitting stochastic variance reduced gradient descent:')\n",
    "wbc_svrg_loss = svrg_log.fit(wbc_X_train, wbc_y_train, non_zero_init = True)"
   ]
  },
  {
   "cell_type": "code",
   "execution_count": 53,
   "metadata": {},
   "outputs": [
    {
     "name": "stdout",
     "output_type": "stream",
     "text": [
      "Model Accuracy: 87.14%\n",
      "Model Accuracy: 85.00%\n",
      "Model Accuracy: 86.43%\n",
      "Model Accuracy: 85.71%\n",
      "Model Accuracy: 87.86%\n",
      "Model Accuracy: 87.86%\n"
     ]
    }
   ],
   "source": [
    "acc = check_accuracy(gd_log, wbc_X_test, wbc_y_test)\n",
    "print(\"GD Accuracy: {0:.2f}%\".format(acc * 100))\n",
    "acc = check_accuracy(sgd_1_log, wbc_X_test, wbc_y_test)\n",
    "print(\"SGD 1 Accuracy: {0:.2f}%\".format(acc * 100))\n",
    "acc = check_accuracy(sgd_10_log, wbc_X_test, wbc_y_test)\n",
    "print(\"SGD 10 Accuracy: {0:.2f}%\".format(acc * 100))\n",
    "acc = check_accuracy(sgd_100_log, wbc_X_test, wbc_y_test)\n",
    "print(\"SGD 100 Accuracy: {0:.2f}%\".format(acc * 100))\n",
    "acc = check_accuracy(agd_log, wbc_X_test, wbc_y_test)\n",
    "print(\"AGD Accuracy: {0:.2f}%\".format(acc * 100))\n",
    "acc = check_accuracy(svrd_log, wbc_X_test, wbc_y_test)\n",
    "print(\"SVRG Accuracy: {0:.2f}%\".format(acc * 100))"
   ]
  },
  {
   "cell_type": "code",
   "execution_count": 92,
   "metadata": {},
   "outputs": [
    {
     "data": {
      "image/png": "[encoded data removed]",
      "text/plain": [
       "<Figure size 1008x720 with 1 Axes>"
      ]
     },
     "metadata": {
      "needs_background": "light"
     },
     "output_type": "display_data"
    }
   ],
   "source": [
    "plt.figure(1, figsize=(14, 10))\n",
    "plt.xlabel('Iteration Number',fontsize='xx-large')\n",
    "plt.xlim(0,1000)\n",
    "plt.ylabel('Loss',fontsize='xx-large')\n",
    "plt.plot(wbc_gd_loss, '+' 'b')\n",
    "plt.plot(wbc_sgd_1_loss, 'g')\n",
    "plt.plot(wbc_sgd_10_loss, 'y')\n",
    "plt.plot(wbc_sgd_100_loss, 'k')\n",
    "plt.plot(wbc_agd_loss, 'c')\n",
    "plt.plot(wbc_svrdg_loss, 'r')\n",
    "plt.legend(['GD','SGD_1','SGD_10','SGD_100','AGD','SVRG'], fontsize='x-large')\n",
    "plt.show()"
   ]
  },
  {
   "cell_type": "markdown",
   "metadata": {},
   "source": [
    "#### MNIST Data\n",
    "Then, we setup the run for all of our descent methods on the MNIST dataset, beginning with the initialization of each of our descent method objects. We combine the cells here and reduce the footprint, as the usage is the same as above."
   ]
  },
  {
   "cell_type": "code",
   "execution_count": 28,
   "metadata": {},
   "outputs": [
    {
     "name": "stdout",
     "output_type": "stream",
     "text": [
      "Fitting gradient descent:\n",
      "Iter:        0 train loss: nan\n",
      "Iter:      100 train loss: 1198.863\n",
      "Iter:      200 train loss: 937.926\n",
      "Iter:      300 train loss: 803.098\n",
      "Iter:      400 train loss: 712.975\n",
      "Iter:      500 train loss: 647.400\n",
      "Iter:      600 train loss: 597.177\n",
      "Iter:      700 train loss: 557.304\n",
      "Iter:      800 train loss: 524.790\n",
      "Iter:      900 train loss: 497.734\n",
      "\n",
      "Fitting stochastic gradient descent, batch size = 1:\n",
      "Iter:        0 train loss: nan\n",
      "Converged at 78 iterations.\n",
      "\n",
      "Fitting stochastic gradient descent, batch size = 10:\n",
      "Iter:        0 train loss: nan\n",
      "Converged at 142 iterations.\n",
      "\n",
      "Fitting stochastic gradient descent, batch size = 100:\n",
      "Iter:        0 train loss: nan\n",
      "Iter:      200 train loss: 938.253\n",
      "Iter:      400 train loss: 714.459\n",
      "Iter:      600 train loss: 598.906\n",
      "Iter:      800 train loss: 524.670\n",
      "Iter:     1000 train loss: 474.808\n",
      "Iter:     1200 train loss: 438.028\n",
      "Converged at 1220 iterations.\n",
      "\n",
      "Fitting accelerated gradient descent:\n",
      "Iter:        0 train loss: 7138.030\n",
      "Iter:       20 train loss: 876.685\n",
      "Iter:       40 train loss: 547.391\n",
      "Iter:       60 train loss: 448.322\n",
      "Iter:       80 train loss: 395.342\n",
      "Iter:      100 train loss: 359.747\n",
      "Iter:      120 train loss: 332.873\n",
      "Iter:      140 train loss: 310.938\n",
      "Iter:      160 train loss: 292.223\n",
      "Iter:      180 train loss: 275.975\n",
      "\n",
      "Fitting stochastic variance reduced gradient descent:\n",
      "Iter:        0 train loss: nan\n",
      "Iter:        2 train loss: nan\n",
      "Iter:        4 train loss: nan\n",
      "Iter:        6 train loss: nan\n",
      "Iter:        8 train loss: nan\n",
      "Iter:       10 train loss: nan\n",
      "Iter:       12 train loss: nan\n",
      "Iter:       14 train loss: nan\n",
      "Iter:       16 train loss: nan\n",
      "Iter:       18 train loss: nan\n"
     ]
    }
   ],
   "source": [
    "lr = FixedRate(0.000001)\n",
    "# initialize our descent methods\n",
    "gd = GradientDescent()\n",
    "sgd_1 = GradientDescent() \n",
    "sgd_10 = GradientDescent()\n",
    "sgd_100 = GradientDescent()\n",
    "agd = NesterovAcceleratedDescent()\n",
    "svrd = StochasticVarianceReducedGradientDescent()\n",
    "# initialize the logisitic regression objects\n",
    "gd_log = LogisticRegression(gd, lr, 2000, mnist_n, rel_conv)\n",
    "sgd_1_log = LogisticRegression(sgd_1, lr, 100, 1, rel_conv)\n",
    "sgd_10_log = LogisticRegression(sgd_10, lr, 200, 10, rel_conv)\n",
    "sgd_100_log = LogisticRegression(sgd_100, lr, 2000, 100, rel_conv)\n",
    "agd_log = LogisticRegression(agd, lr, 200, mnist_n, rel_conv)\n",
    "svrd_log = LogisticRegression(svrd, lr, 20, mnist_n, rel_conv)\n",
    "# and run the fit for each of these models, this time on the MNIST data set:\n",
    "print('Fitting gradient descent:')\n",
    "mnist_gd_loss = gd_log.fit(mnist_X_train, mnist_y_train, non_zero_init = True)\n",
    "print('\\nFitting stochastic gradient descent, batch size = 1:')\n",
    "mnist_sgd_1_loss = sgd_1_log.fit(mnist_X_train, mnist_y_train, non_zero_init = True)\n",
    "print('\\nFitting stochastic gradient descent, batch size = 10:')\n",
    "mnist_sgd_10_loss = sgd_10_log.fit(mnist_X_train, mnist_y_train, non_zero_init = True)\n",
    "print('\\nFitting stochastic gradient descent, batch size = 100:')\n",
    "mnist_sgd_100_loss = sgd_100_log.fit(mnist_X_train, mnist_y_train, non_zero_init = True)\n",
    "print('\\nFitting accelerated gradient descent:')\n",
    "mnist_agd_loss = agd_log.fit(mnist_X_train, mnist_y_train, non_zero_init = True)\n",
    "print('\\nFitting stochastic variance reduced gradient descent:')\n",
    "mnist_sbrd_loss = svrd_log.fit(mnist_X_train, mnist_y_train, non_zero_init = True)"
   ]
  },
  {
   "cell_type": "markdown",
   "metadata": {},
   "source": [
    "#### COD-RNA Data\n",
    "Lastly, we setup the run for all of our descent methods on the COD-RNA dataset, again using a reduced-frill cell to run our fit for each method's model."
   ]
  },
  {
   "cell_type": "code",
   "execution_count": 18,
   "metadata": {},
   "outputs": [],
   "source": [
    "lr = FixedRate(0.001)\n",
    "# initialize our descent methods\n",
    "gd = GradientDescent()\n",
    "sgd_1 = GradientDescent()\n",
    "sgd_10 = GradientDescent()\n",
    "sgd_100 = GradientDescent()\n",
    "agd = NesterovAcceleratedDescent()\n",
    "svrd = StochasticVarianceReducedGradientDescent()\n",
    "# initialize the logisitic regression objects\n",
    "gd_log = LogisticRegression(gd, lr, 5000, wbc_n, rel_conv)\n",
    "sgd_1_log = LogisticRegression(sgd_1, lr, 2000, 1, rel_conv)\n",
    "sgd_10_log = LogisticRegression(sgd_10, lr, 2000, 10, rel_conv)\n",
    "sgd_100_log = LogisticRegression(sgd_100, lr, 2000, 100, rel_conv)\n",
    "agd_log = LogisticRegression(agd, lr, 200, wbc_n, rel_conv)\n",
    "svrd_log = LogisticRegression(svrd, lr, 20, wbc_n, rel_conv)\n",
    "# and run the fit for each of these models, this time on the MNIST data set:\n",
    "print('Fitting gradient descent:')\n",
    "wbc_gd_loss = gd_log.fit(wbc_X_train, wbc_y_train, non_zero_init = True)\n",
    "print('\\nFitting stochastic gradient descent, batch size = 1:')\n",
    "wbc_sgd_1_loss = sgd_1_log.fit(wbc_X_train, wbc_y_train, non_zero_init = True)\n",
    "print('\\nFitting stochastic gradient descent, batch size = 10:')\n",
    "wbc_sgd_10_loss = sgd_10_log.fit(wbc_X_train, wbc_y_train, non_zero_init = True)\n",
    "print('\\nFitting stochastic gradient descent, batch size = 100:')\n",
    "wbc_sgd_100_loss = sgd_100_log.fit(wbc_X_train, wbc_y_train, non_zero_init = True)\n",
    "print('\\nFitting accelerated gradient descent:')\n",
    "wbc_agd_loss = agd_log.fit(wbc_X_train, wbc_y_train, non_zero_init = True)\n",
    "print('\\nFitting stochastic variance reduced gradient descent:')\n",
    "wbc_sbrd_loss = svrd_log.fit(wbc_X_train, wbc_y_train, non_zero_init = True)"
   ]
  },
  {
   "cell_type": "markdown",
   "metadata": {},
   "source": [
    "Next, we initialize all of our model objects (all logistic regression models in this case), with the appropriate parameters for each algorithm."
   ]
  },
  {
   "cell_type": "code",
   "execution_count": 19,
   "metadata": {},
   "outputs": [],
   "source": [
    "# LogisticRegression(DescentAlgorithm, LearningRate, max iterations, \n",
    "# batch size, relative convergence)\n",
    "gd_log = LogisticRegression(gd, lr, 5000, wbc_n, rel_conv)\n",
    "sgd_1_log = LogisticRegression(sgd_1, lr, 2000, 1, rel_conv)\n",
    "sgd_10_log = LogisticRegression(sgd_10, lr, 2000, 10, rel_conv)\n",
    "sgd_100_log = LogisticRegression(sgd_100, lr, 2000, 100, rel_conv)\n",
    "agd_log = LogisticRegression(agd, lr, 200, wbc_n, rel_conv)\n",
    "svrd_log = LogisticRegression(svrd, lr, 20, wbc_n, rel_conv)"
   ]
  },
  {
   "cell_type": "markdown",
   "metadata": {},
   "source": [
    "Then, we run the fit for each model:"
   ]
  },
  {
   "cell_type": "code",
   "execution_count": 20,
   "metadata": {
    "scrolled": true
   },
   "outputs": [
    {
     "name": "stdout",
     "output_type": "stream",
     "text": [
      "Fitting gradient descent:\n",
      "Iter:        0 train loss: 643.546\n",
      "Iter:      500 train loss: 222.831\n",
      "Iter:     1000 train loss: 212.815\n",
      "Iter:     1500 train loss: 209.672\n",
      "Iter:     2000 train loss: 208.339\n",
      "Iter:     2500 train loss: 207.696\n",
      "Iter:     3000 train loss: 207.366\n",
      "Iter:     3500 train loss: 207.190\n",
      "Converged at 3666 iterations.\n",
      "\n",
      "Fitting stochastic gradient descent, batch size = 1:\n",
      "Iter:        0 train loss: 651.741\n",
      "Iter:      200 train loss: 288.112\n",
      "Iter:      400 train loss: 251.989\n",
      "Iter:      600 train loss: 219.381\n",
      "Iter:      800 train loss: 217.956\n",
      "Iter:     1000 train loss: 258.056\n",
      "Iter:     1200 train loss: 214.006\n",
      "Converged at 1255 iterations.\n",
      "\n",
      "Fitting stochastic gradient descent, batch size = 10:\n",
      "Iter:        0 train loss: 667.279\n",
      "Iter:      200 train loss: 249.538\n",
      "Iter:      400 train loss: 227.446\n",
      "Iter:      600 train loss: 219.625\n",
      "Iter:      800 train loss: 215.234\n",
      "Iter:     1000 train loss: 212.944\n",
      "Iter:     1200 train loss: 212.197\n",
      "Iter:     1400 train loss: 210.517\n",
      "Iter:     1600 train loss: 211.172\n",
      "Iter:     1800 train loss: 208.874\n",
      "Converged at 1891 iterations.\n",
      "\n",
      "Fitting stochastic gradient descent, batch size = 100:\n",
      "Iter:        0 train loss: 642.356\n",
      "Iter:      200 train loss: 247.439\n",
      "Iter:      400 train loss: 227.478\n",
      "Iter:      600 train loss: 219.690\n",
      "Iter:      800 train loss: 215.365\n",
      "Converged at 946 iterations.\n",
      "\n",
      "Fitting accelerated gradient descent:\n",
      "Iter:        0 train loss: 386.776\n",
      "Iter:       20 train loss: 285.748\n",
      "Iter:       40 train loss: 234.744\n",
      "Iter:       60 train loss: 217.295\n",
      "Iter:       80 train loss: 210.875\n",
      "Iter:      100 train loss: 208.490\n",
      "Iter:      120 train loss: 207.511\n",
      "Iter:      140 train loss: 207.117\n",
      "Converged at 151 iterations.\n",
      "\n",
      "Fitting stochastic variance reduced gradient descent:\n",
      "Iter:        0 train loss: 222.659\n",
      "Iter:        2 train loss: 208.572\n",
      "Iter:        4 train loss: 207.077\n",
      "Iter:        6 train loss: 207.006\n",
      "Iter:        8 train loss: 206.978\n",
      "Iter:       10 train loss: 206.978\n",
      "Converged at 10 iterations.\n"
     ]
    }
   ],
   "source": [
    "print('Fitting gradient descent:')\n",
    "wbc_gd_loss = gd_log.fit(wbc_X_train, wbc_y_train, non_zero_init = True)\n",
    "print('\\nFitting stochastic gradient descent, batch size = 1:')\n",
    "wbc_sgd_1_loss = sgd_1_log.fit(wbc_X_train, wbc_y_train, non_zero_init = True)\n",
    "print('\\nFitting stochastic gradient descent, batch size = 10:')\n",
    "wbc_sgd_10_loss = sgd_10_log.fit(wbc_X_train, wbc_y_train, non_zero_init = True)\n",
    "print('\\nFitting stochastic gradient descent, batch size = 100:')\n",
    "wbc_sgd_100_loss = sgd_100_log.fit(wbc_X_train, wbc_y_train, non_zero_init = True)\n",
    "print('\\nFitting accelerated gradient descent:')\n",
    "wbc_agd_loss = agd_log.fit(wbc_X_train, wbc_y_train, non_zero_init = True)\n",
    "print('\\nFitting stochastic variance reduced gradient descent:')\n",
    "wbc_sbrd_loss = svrd_log.fit(wbc_X_train, wbc_y_train, non_zero_init = True)"
   ]
  },
  {
   "cell_type": "code",
   "execution_count": null,
   "metadata": {},
   "outputs": [],
   "source": [
    "acc = check_accuracy(log, wbc_X_test, wbc_y_test)\n",
    "print(\"Model Accuracy: {0:.2f}%\".format(acc * 100))\n",
    "\n",
    "plt.figure(1, figsize=(12, 6))\n",
    "plt.title('Loss Plot')\n",
    "plt.xlabel('Iteration Number')\n",
    "plt.ylabel('Loss')\n",
    "plt.plot(loss, 'b')\n",
    "plt.show()"
   ]
  },
  {
   "cell_type": "markdown",
   "metadata": {},
   "source": [
    "Run notes:\n",
    "\n",
    "FIRST:\n",
    "lr:\n",
    "    - fixed: GD(0.01), SGD(0.01) - batched at 1,10,100 , SVRG(0.01), Nest(0.01)\n",
    "    - polydecay: GD(0.01, 0.0001), SGD(0.01, 0.00001) - batched, SVRG(N/A), Nest(N/A)\n",
    "    - expdecay: GD(0.1,0.001), SGD(0.1,.001) - batched, SVRG(N/A), Nest(N/A)"
   ]
  }
 ],
 "metadata": {
  "kernelspec": {
   "display_name": "Python 3",
   "language": "python",
   "name": "python3"
  },
  "language_info": {
   "codemirror_mode": {
    "name": "ipython",
    "version": 3
   },
   "file_extension": ".py",
   "mimetype": "text/x-python",
   "name": "python",
   "nbconvert_exporter": "python",
   "pygments_lexer": "ipython3",
   "version": "3.6.6"
  }
 },
 "nbformat": 4,
 "nbformat_minor": 2
}
